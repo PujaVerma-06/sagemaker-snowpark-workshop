{
 "cells": [
  {
   "cell_type": "markdown",
   "id": "06830e33",
   "metadata": {
    "tags": []
   },
   "source": [
    "# s3 as Input and Output Source"
   ]
  },
  {
   "cell_type": "markdown",
   "id": "a44e69fa-a135-4c03-8fd5-d31ac94e5584",
   "metadata": {},
   "source": [
    "## Pre-Processing"
   ]
  },
  {
   "cell_type": "code",
   "execution_count": null,
   "id": "b0d468e7",
   "metadata": {},
   "outputs": [],
   "source": [
    "import boto3\n",
    "import sagemaker\n",
    "from sagemaker import get_execution_role\n",
    "from sagemaker.sklearn.processing import SKLearnProcessor\n",
    "\n",
    "region = boto3.session.Session().region_name\n",
    "\n",
    "role = get_execution_role()\n",
    "# instantiate a SKLearnProcessor object\n",
    "sklearn_processor = SKLearnProcessor(\n",
    "    framework_version=\"0.20.0\", role=role, instance_type=\"ml.t3.medium\", instance_count=1\n",
    ")"
   ]
  },
  {
   "cell_type": "code",
   "execution_count": null,
   "id": "6c0d7f02",
   "metadata": {},
   "outputs": [],
   "source": [
    "import pandas as pd\n",
    "\n",
    "input_data = \"s3://{sagemaker-databucket}/census-income.csv\"\n",
    "df = pd.read_csv(input_data, nrows=10)\n",
    "#df.dtypes\n",
    "df.head(n=10)"
   ]
  },
  {
   "cell_type": "code",
   "execution_count": null,
   "id": "10b158fa",
   "metadata": {},
   "outputs": [],
   "source": [
    "%%writefile preprocessing.py\n",
    "\n",
    "import argparse\n",
    "import os\n",
    "import warnings\n",
    "\n",
    "import pandas as pd\n",
    "import numpy as np\n",
    "from sklearn.model_selection import train_test_split\n",
    "from sklearn.preprocessing import StandardScaler, OneHotEncoder, LabelBinarizer, KBinsDiscretizer\n",
    "from sklearn.preprocessing import PolynomialFeatures\n",
    "from sklearn.compose import make_column_transformer\n",
    "\n",
    "from sklearn.exceptions import DataConversionWarning\n",
    "\n",
    "warnings.filterwarnings(action=\"ignore\", category=DataConversionWarning)\n",
    "\n",
    "columns = [\n",
    "    \"age\",\n",
    "    \"class_of_worker\",\n",
    "    \"education\",\n",
    "    \"major_industry_code\",\n",
    "    \"capital_gains\",\n",
    "    \"capital_losses\",\n",
    "    \"dividends_from_stocks\",\n",
    "    \"num_persons_worked_for_employer\",\n",
    "    \"income\",\n",
    "]\n",
    "class_labels = [0, 1]\n",
    "\n",
    "\n",
    "def print_shape(df):\n",
    "    print('*****IN print_shape df')\n",
    "    negative_examples, positive_examples = np.bincount(df[\"income\"])\n",
    "    print(\n",
    "        \"Data shape: {}, {} positive examples, {} negative examples\".format(\n",
    "            df.shape, positive_examples, negative_examples\n",
    "        )\n",
    "    )\n",
    "\n",
    "\n",
    "if __name__ == \"__main__\":\n",
    "    print('**** IN MAIN')\n",
    "    parser = argparse.ArgumentParser()\n",
    "    parser.add_argument(\"--train-test-split-ratio\", type=float, default=0.3)\n",
    "    args, _ = parser.parse_known_args()\n",
    "\n",
    "    print(\"Received arguments {}\".format(args))\n",
    "\n",
    "    input_data_path = os.path.join(\"/opt/ml/processing/input\", \"census-income.csv\")\n",
    "\n",
    "    print(\"Reading input data from {}\".format(input_data_path))\n",
    "    df = pd.read_csv(input_data_path)\n",
    "    pd.set_option('max_columns', None)\n",
    "    # df = pd.DataFrame(data=df, columns=columns)\n",
    "    \n",
    "    df.dropna(inplace=True)\n",
    "    df.drop_duplicates(inplace=True)\n",
    "    #df.replace(class_labels, [0, 1], inplace=True)\n",
    "\n",
    "    negative_examples, positive_examples = np.bincount(df[\"income\"])\n",
    "    print(\n",
    "        \"Data after cleaning: {}, {} positive examples, {} negative examples\".format(\n",
    "            df.shape, positive_examples, negative_examples\n",
    "        )\n",
    "    )\n",
    "    \n",
    "    # Spliting data into 70% training dataset and 30% test datatset\n",
    "    split_ratio = args.train_test_split_ratio\n",
    "    print(\"Splitting data into train and test sets with ratio {}\".format(split_ratio))\n",
    "    X_train, X_test, y_train, y_test = train_test_split(\n",
    "        df.drop(\"income\", axis=1), df[\"income\"], test_size=split_ratio, random_state=0\n",
    "    )\n",
    "    \n",
    "    # Converting columns into machine readable format (i.e. 0's and 1's)\n",
    "    preprocess = make_column_transformer(\n",
    "        (\n",
    "            [\"age\", \"num_persons_worked_for_employer\"],\n",
    "            KBinsDiscretizer(encode=\"onehot-dense\", n_bins=10),\n",
    "        ),\n",
    "        ([\"capital_gains\", \"capital_losses\", \"dividends_from_stocks\"], StandardScaler()),\n",
    "        ([\"education\", \"major_industry_code\", \"class_of_worker\"], OneHotEncoder(sparse=False)),\n",
    "    )\n",
    "    print(\"Running preprocessing and feature engineering transformations\")\n",
    "    train_features = preprocess.fit_transform(X_train)\n",
    "    test_features = preprocess.transform(X_test)\n",
    "\n",
    "    print(\"Train data shape after preprocessing: {}\".format(train_features.shape))\n",
    "    print(\"Test data shape after preprocessing: {}\".format(test_features.shape))\n",
    "\n",
    "    train_features_output_path = os.path.join(\"/opt/ml/processing/train\", \"train_features.csv\")\n",
    "    train_labels_output_path = os.path.join(\"/opt/ml/processing/train\", \"train_labels.csv\")\n",
    "\n",
    "    test_features_output_path = os.path.join(\"/opt/ml/processing/test\", \"test_features.csv\")\n",
    "    test_labels_output_path = os.path.join(\"/opt/ml/processing/test\", \"test_labels.csv\")\n",
    "\n",
    "    print(\"Saving training features to {}\".format(train_features_output_path))\n",
    "    pd.DataFrame(train_features).to_csv(train_features_output_path, header=False, index=False)\n",
    "\n",
    "    print(\"Saving test features to {}\".format(test_features_output_path))\n",
    "    pd.DataFrame(test_features).to_csv(test_features_output_path, header=False, index=False)\n",
    "\n",
    "    print(\"Saving training labels to {}\".format(train_labels_output_path))\n",
    "    y_train.to_csv(train_labels_output_path, header=False, index=False)\n",
    "\n",
    "    print(\"Saving test labels to {}\".format(test_labels_output_path))\n",
    "    y_test.to_csv(test_labels_output_path, header=False, index=False)"
   ]
  },
  {
   "cell_type": "code",
   "execution_count": null,
   "id": "76e51306",
   "metadata": {},
   "outputs": [],
   "source": [
    "from sagemaker.processing import ProcessingInput, ProcessingOutput\n",
    "\n",
    "# run this processing job, by specifying the code to use, inputs, outputs, and the arguments, if any\n",
    "sklearn_processor.run(\n",
    "    code=\"preprocessing.py\",\n",
    "    inputs=[ProcessingInput(source=input_data, destination=\"/opt/ml/processing/input\")],\n",
    "    outputs=[\n",
    "        ProcessingOutput(output_name=\"train_data\", source=\"/opt/ml/processing/train\"),\n",
    "        ProcessingOutput(output_name=\"test_data\", source=\"/opt/ml/processing/test\"),\n",
    "    ],\n",
    "    arguments=[\"--train-test-split-ratio\", \"0.2\"],\n",
    ")\n",
    "\n",
    "preprocessing_job_description = sklearn_processor.jobs[-1].describe()\n",
    "\n",
    "output_config = preprocessing_job_description[\"ProcessingOutputConfig\"]\n",
    "for output in output_config[\"Outputs\"]:\n",
    "    if output[\"OutputName\"] == \"train_data\":\n",
    "        preprocessed_training_data = output[\"S3Output\"][\"S3Uri\"]\n",
    "    if output[\"OutputName\"] == \"test_data\":\n",
    "        preprocessed_test_data = output[\"S3Output\"][\"S3Uri\"]"
   ]
  },
  {
   "cell_type": "code",
   "execution_count": null,
   "id": "5940eb3f",
   "metadata": {},
   "outputs": [],
   "source": [
    "training_features = pd.read_csv(preprocessed_training_data + \"/train_features.csv\", nrows=10)\n",
    "print(\"Training features shape: {}\".format(training_features.shape))\n",
    "training_features.head(n=10)"
   ]
  },
  {
   "cell_type": "markdown",
   "id": "38318eb6",
   "metadata": {
    "tags": []
   },
   "source": [
    "## Training"
   ]
  },
  {
   "cell_type": "code",
   "execution_count": null,
   "id": "d426f80f",
   "metadata": {},
   "outputs": [],
   "source": [
    "from sagemaker.sklearn.estimator import SKLearn\n",
    "\n",
    "# Instantiate a SKLearn Job\n",
    "sklearn = SKLearn(\n",
    "    entry_point=\"train.py\", framework_version=\"0.20.0\", instance_type=\"ml.m5.xlarge\", role=role\n",
    ")"
   ]
  },
  {
   "cell_type": "code",
   "execution_count": null,
   "id": "3a004d93",
   "metadata": {},
   "outputs": [],
   "source": [
    "%%writefile train.py\n",
    "\n",
    "import os\n",
    "\n",
    "import pandas as pd\n",
    "from sklearn.linear_model import LogisticRegression\n",
    "from sklearn.externals import joblib\n",
    "\n",
    "# This function is required for batch prediction/inference\n",
    "def model_fn(model_dir):\n",
    "    clf = joblib.load(os.path.join(model_dir, \"model.joblib\"))\n",
    "    return clf\n",
    "\n",
    "if __name__ == \"__main__\":\n",
    "    training_data_directory = \"/opt/ml/input/data/train\"\n",
    "    train_features_data = os.path.join(training_data_directory, \"train_features.csv\")\n",
    "    train_labels_data = os.path.join(training_data_directory, \"train_labels.csv\")\n",
    "    print(\"Reading input data\")\n",
    "    X_train = pd.read_csv(train_features_data, header=None)\n",
    "    y_train = pd.read_csv(train_labels_data, header=None)\n",
    "\n",
    "    model = LogisticRegression(class_weight=\"balanced\", solver=\"lbfgs\")\n",
    "    print(\"Training LR model\")\n",
    "    model.fit(X_train, y_train)\n",
    "    model_output_directory = os.path.join(\"/opt/ml/model\", \"model.joblib\")\n",
    "    print(\"Saving model to {}\".format(model_output_directory))\n",
    "    joblib.dump(model, model_output_directory)"
   ]
  },
  {
   "cell_type": "code",
   "execution_count": null,
   "id": "a6feae6e",
   "metadata": {},
   "outputs": [],
   "source": [
    "# To start training job we call .fit() method\n",
    "sklearn.fit({\"train\": preprocessed_training_data})\n",
    "training_job_description = sklearn.jobs[-1].describe()\n",
    "model_data_s3_uri = \"{}{}/{}\".format(\n",
    "    training_job_description[\"OutputDataConfig\"][\"S3OutputPath\"],\n",
    "    training_job_description[\"TrainingJobName\"],\n",
    "    \"output/model.tar.gz\",\n",
    ")\n",
    "print('model_data_s3_uri: ', model_data_s3_uri)"
   ]
  },
  {
   "cell_type": "markdown",
   "id": "313dada3",
   "metadata": {
    "tags": []
   },
   "source": [
    "## Model Evaluation"
   ]
  },
  {
   "cell_type": "code",
   "execution_count": null,
   "id": "45fcbc0f",
   "metadata": {},
   "outputs": [],
   "source": [
    "%%writefile evaluation.py\n",
    "\n",
    "import json\n",
    "import os\n",
    "import tarfile\n",
    "\n",
    "import pandas as pd\n",
    "\n",
    "from sklearn.externals import joblib\n",
    "from sklearn.metrics import classification_report, roc_auc_score, accuracy_score\n",
    "\n",
    "if __name__ == \"__main__\":\n",
    "    model_path = os.path.join(\"/opt/ml/processing/model\", \"model.tar.gz\")\n",
    "    print(\"Extracting model from path: {}\".format(model_path))\n",
    "    with tarfile.open(model_path) as tar:\n",
    "        tar.extractall(path=\".\")\n",
    "    print(\"Loading model\")\n",
    "    model = joblib.load(\"model.joblib\")\n",
    "\n",
    "    print(\"Loading test input data\")\n",
    "    test_features_data = os.path.join(\"/opt/ml/processing/test\", \"test_features.csv\")\n",
    "    test_labels_data = os.path.join(\"/opt/ml/processing/test\", \"test_labels.csv\")\n",
    "\n",
    "    X_test = pd.read_csv(test_features_data, header=None)\n",
    "    y_test = pd.read_csv(test_labels_data, header=None)\n",
    "    predictions = model.predict(X_test)\n",
    "\n",
    "    print(\"Creating classification evaluation report\")\n",
    "    report_dict = classification_report(y_test, predictions, output_dict=True)\n",
    "    report_dict[\"accuracy\"] = accuracy_score(y_test, predictions)\n",
    "    report_dict[\"roc_auc\"] = roc_auc_score(y_test, predictions)\n",
    "\n",
    "    print(\"Classification report:\\n{}\".format(report_dict))\n",
    "\n",
    "    evaluation_output_path = os.path.join(\"/opt/ml/processing/evaluation\", \"evaluation.json\")\n",
    "    print(\"Saving classification report to {}\".format(evaluation_output_path))\n",
    "\n",
    "    with open(evaluation_output_path, \"w\") as f:\n",
    "        f.write(json.dumps(report_dict))"
   ]
  },
  {
   "cell_type": "code",
   "execution_count": null,
   "id": "e193e69a",
   "metadata": {},
   "outputs": [],
   "source": [
    "import json\n",
    "from sagemaker.s3 import S3Downloader\n",
    "\n",
    "sklearn_processor.run(\n",
    "    code=\"evaluation.py\",\n",
    "    inputs=[\n",
    "        ProcessingInput(source=model_data_s3_uri, destination=\"/opt/ml/processing/model\"),\n",
    "        ProcessingInput(source=preprocessed_test_data, destination=\"/opt/ml/processing/test\"),\n",
    "    ],\n",
    "    outputs=[ProcessingOutput(output_name=\"evaluation\", source=\"/opt/ml/processing/evaluation\")],\n",
    ")\n",
    "evaluation_job_description = sklearn_processor.jobs[-1].describe()"
   ]
  },
  {
   "cell_type": "code",
   "execution_count": null,
   "id": "67272ada",
   "metadata": {},
   "outputs": [],
   "source": [
    "evaluation_output_config = evaluation_job_description[\"ProcessingOutputConfig\"]\n",
    "for output in evaluation_output_config[\"Outputs\"]:\n",
    "    if output[\"OutputName\"] == \"evaluation\":\n",
    "        evaluation_s3_uri = output[\"S3Output\"][\"S3Uri\"] + \"/evaluation.json\"\n",
    "        break\n",
    "\n",
    "evaluation_output = S3Downloader.read_file(evaluation_s3_uri)\n",
    "evaluation_output_dict = json.loads(evaluation_output)\n",
    "print(json.dumps(evaluation_output_dict, sort_keys=True, indent=4))"
   ]
  },
  {
   "cell_type": "markdown",
   "id": "d48f3310",
   "metadata": {
    "tags": []
   },
   "source": [
    "## Batch Inference"
   ]
  },
  {
   "cell_type": "code",
   "execution_count": null,
   "id": "152b8245",
   "metadata": {},
   "outputs": [],
   "source": [
    "import sagemaker as sage\n",
    "from time import gmtime, strftime\n",
    "\n",
    "sagemaker_session = sage.Session()\n",
    "\n",
    "transform_output_folder = \"batch-transform-output\"\n",
    "output_path = \"s3://{}/{}\".format(sagemaker_session.default_bucket(), transform_output_folder)\n",
    "print(\"output_path: \", output_path)\n",
    "transformer = sklearn.transformer(\n",
    "    instance_count=1,\n",
    "    instance_type=\"ml.m4.xlarge\",\n",
    "    output_path=output_path,\n",
    "    assemble_with=\"Line\",\n",
    "    accept=\"text/csv\",\n",
    ")"
   ]
  },
  {
   "cell_type": "code",
   "execution_count": null,
   "id": "7bad0139",
   "metadata": {},
   "outputs": [],
   "source": [
    "data_location = \"{}/{}\".format(preprocessed_test_data, \"test_features.csv\") \n",
    "\n",
    "print(\"data_location: \", data_location)\n",
    "df = pd.read_csv(data_location, nrows=5)\n",
    "df.head(n=5)"
   ]
  },
  {
   "cell_type": "code",
   "execution_count": null,
   "id": "bb2a850a",
   "metadata": {},
   "outputs": [],
   "source": [
    "transformer.transform(\n",
    "    data_location, content_type=\"text/csv\", split_type=\"Line\"#, input_filter=\"$[1:]\"\n",
    ")\n",
    "transformer.wait()"
   ]
  },
  {
   "cell_type": "code",
   "execution_count": null,
   "id": "f6a599e1",
   "metadata": {},
   "outputs": [],
   "source": [
    "import pandas as pd\n",
    "\n",
    "inference_output_data = \"{}/{}\".format(output_path, \"test_features.csv.out\")\n",
    "df = pd.read_csv(inference_output_data, nrows=10)\n",
    "df.head(n=10)"
   ]
  },
  {
   "cell_type": "markdown",
   "id": "dbf1670a-939a-43a4-9929-95e28c568217",
   "metadata": {
    "tags": []
   },
   "source": [
    "# Snowflake as Input and Output Source"
   ]
  },
  {
   "cell_type": "markdown",
   "id": "d7e6fd7b",
   "metadata": {
    "tags": []
   },
   "source": [
    "## Build your custom container"
   ]
  },
  {
   "cell_type": "code",
   "execution_count": null,
   "id": "cd1340be",
   "metadata": {},
   "outputs": [],
   "source": [
    "!pip install sagemaker-studio-image-build"
   ]
  },
  {
   "cell_type": "code",
   "execution_count": null,
   "id": "96dd005b",
   "metadata": {},
   "outputs": [],
   "source": [
    "!mkdir docker"
   ]
  },
  {
   "cell_type": "code",
   "execution_count": null,
   "id": "142c26ad",
   "metadata": {},
   "outputs": [],
   "source": [
    "%%writefile docker/Dockerfile\n",
    "\n",
    "\n",
    "FROM python:3.8\n",
    "#-slim-buster\n",
    "\n",
    "RUN pip install pandas==1.1.5 numpy==1.16.5 scikit-learn==0.23.1 \n",
    "RUN pip install \"snowflake-snowpark-python[pandas]\"\n",
    "\n",
    "#ENV PYTHONUNBUFFERED=TRUE\n",
    "\n",
    "\n",
    "ENTRYPOINT [\"python3\"]"
   ]
  },
  {
   "cell_type": "code",
   "execution_count": null,
   "id": "f088c56e",
   "metadata": {},
   "outputs": [],
   "source": [
    "!sm-docker build ./docker --repository mydockerrepo1:2"
   ]
  },
  {
   "cell_type": "code",
   "execution_count": null,
   "id": "d23e9213",
   "metadata": {},
   "outputs": [],
   "source": [
    "processing_repository_uri = '{account_no}.dkr.ecr.{region}.amazonaws.com/mydockerrepo1:2'"
   ]
  },
  {
   "cell_type": "markdown",
   "id": "e2a5b490",
   "metadata": {
    "tags": []
   },
   "source": [
    "## Preprocessing using custom container"
   ]
  },
  {
   "cell_type": "code",
   "execution_count": null,
   "id": "fdd72927",
   "metadata": {},
   "outputs": [],
   "source": [
    "from sagemaker.processing import ScriptProcessor\n",
    "\n",
    "# Initialising the Script Processor\n",
    "script_processor = ScriptProcessor(\n",
    "    command=[\"python3\"],\n",
    "    image_uri=processing_repository_uri,\n",
    "    role=role,\n",
    "    instance_count=1,\n",
    "    instance_type=\"ml.t3.medium\",\n",
    ")"
   ]
  },
  {
   "cell_type": "code",
   "execution_count": null,
   "id": "2730a932",
   "metadata": {},
   "outputs": [],
   "source": [
    "%%writefile preprocessing_custom.py\n",
    "\n",
    "\n",
    "import argparse\n",
    "import os\n",
    "import warnings\n",
    "\n",
    "import pandas as pd\n",
    "import numpy as np\n",
    "from sklearn.model_selection import train_test_split\n",
    "from sklearn.preprocessing import StandardScaler, OneHotEncoder, LabelBinarizer, KBinsDiscretizer\n",
    "from sklearn.preprocessing import PolynomialFeatures\n",
    "from sklearn.compose import make_column_transformer\n",
    "\n",
    "from sklearn.exceptions import DataConversionWarning\n",
    "\n",
    "from snowflake.snowpark import (\n",
    "    Column,\n",
    "    DataFrame,\n",
    "    Session,\n",
    "    Window\n",
    ")\n",
    "from snowflake.snowpark import functions as f\n",
    "from snowflake.snowpark.types import IntegerType, StringType, StructType, DateType, StructField, MapType\n",
    "from snowflake.snowpark import Session\n",
    "from snowflake.snowpark.functions import col, when, to_date\n",
    "\n",
    "\n",
    "warnings.filterwarnings(action=\"ignore\", category=DataConversionWarning)\n",
    "\n",
    "\n",
    "columns = [\n",
    "    \"age\",\n",
    "    \"class_of_worker\",\n",
    "    \"education\",\n",
    "    \"major_industry_code\",\n",
    "    \"capital_gains\",\n",
    "    \"capital_losses\",\n",
    "    \"dividends_from_stocks\",\n",
    "    \"num_persons_worked_for_employer\",\n",
    "    \"income\",\n",
    "]\n",
    "class_labels = [0, 1]\n",
    "\n",
    "CONNECTION_PARAMETERS = {\n",
    "\"account\": \"\",\n",
    "\"user\": \"\",\n",
    "\"password\": \"\",\n",
    "\"role\": \"\",\n",
    "\"warehouse\": \"\",\n",
    "\"database\": \"\",\n",
    "\"schema\": \"\",\n",
    "}\n",
    "\n",
    "\n",
    "def print_shape(df):\n",
    "    print('*****IN print_shape df')\n",
    "    negative_examples, positive_examples = np.bincount(df[\"income\"])\n",
    "    print(\n",
    "        \"Data shape: {}, {} positive examples, {} negative examples\".format(\n",
    "            df.shape, positive_examples, negative_examples\n",
    "        )\n",
    "    )\n",
    "    \n",
    "\n",
    "def transformation_pipeline():\n",
    "    print('INSIDE TRANSFORMSTION PIPELINE')\n",
    "    session = Session.builder.configs(CONNECTION_PARAMETERS).create()\n",
    "    \n",
    "    session.sql(\"select current_warehouse(), current_database(), current_schema()\").show()\n",
    "    \n",
    "    df_train = session.table('SAGEMAKER_TABLE')\n",
    "\n",
    "    df_train_pd = df_train.to_pandas()\n",
    "    \n",
    "    print(\"df_train_pd: \",df_train_pd.columns)\n",
    "    return df_train_pd\n",
    "\n",
    "\n",
    "if __name__ == \"__main__\":\n",
    "    print('**** IN MAIN')\n",
    "    parser = argparse.ArgumentParser()\n",
    "    parser.add_argument(\"--train-test-split-ratio\", type=float, default=0.3)\n",
    "    args, _ = parser.parse_known_args()\n",
    "\n",
    "    print(\"Received arguments {}\".format(args))\n",
    "\n",
    "    df = transformation_pipeline()\n",
    "    pd.set_option('max_columns', None)\n",
    "    print('******read snowflake table df', df.head(n=5))\n",
    " \n",
    "    df.dropna(inplace=True)\n",
    "    df.drop_duplicates(inplace=True)\n",
    "\n",
    "    negative_examples, positive_examples = np.bincount(df[\"income\"])\n",
    "    print(\n",
    "        \"Data after cleaning: {}, {} positive examples, {} negative examples\".format(\n",
    "            df.shape, positive_examples, negative_examples\n",
    "        )\n",
    "    )\n",
    "\n",
    "    split_ratio = args.train_test_split_ratio\n",
    "    print(\"Splitting data into train and test sets with ratio {}\".format(split_ratio))\n",
    "    X_train, X_test, y_train, y_test = train_test_split(\n",
    "        df.drop(\"income\", axis=1), df[\"income\"], test_size=split_ratio, random_state=0\n",
    "    )\n",
    "\n",
    "    preprocess = make_column_transformer(\n",
    "        (\n",
    "            KBinsDiscretizer(encode=\"onehot-dense\", n_bins=10),\n",
    "            [\"age\", \"num_persons_worked_for_employer\"],\n",
    "        ),\n",
    "        (StandardScaler(), [\"capital_gains\", \"capital_losses\", \"dividends_from_stocks\"]),\n",
    "        (OneHotEncoder(sparse=False), [\"education\", \"major_industry_code\", \"class_of_worker\"]),\n",
    "    )\n",
    "    print(\"Running preprocessing and feature engineering transformations\")\n",
    "    train_features = preprocess.fit_transform(X_train)\n",
    "    test_features = preprocess.transform(X_test)\n",
    "\n",
    "    print(\"Train data shape after preprocessing: {}\".format(train_features.shape))\n",
    "    print(\"Test data shape after preprocessing: {}\".format(test_features.shape))\n",
    "\n",
    "    train_features_output_path = os.path.join(\"/opt/ml/processing/train\", \"train_features.csv\")\n",
    "    train_labels_output_path = os.path.join(\"/opt/ml/processing/train\", \"train_labels.csv\")\n",
    "\n",
    "    test_features_output_path = os.path.join(\"/opt/ml/processing/test\", \"test_features.csv\")\n",
    "    test_labels_output_path = os.path.join(\"/opt/ml/processing/test\", \"test_labels.csv\")\n",
    "\n",
    "    print(\"Saving training features to {}\".format(train_features_output_path))\n",
    "    pd.DataFrame(train_features).to_csv(train_features_output_path, header=False, index=False)\n",
    "\n",
    "    print(\"Saving test features to {}\".format(test_features_output_path))\n",
    "    pd.DataFrame(test_features).to_csv(test_features_output_path, header=False, index=False)\n",
    "\n",
    "    print(\"Saving training labels to {}\".format(train_labels_output_path))\n",
    "    y_train.to_csv(train_labels_output_path, header=False, index=False)\n",
    "\n",
    "    print(\"Saving test labels to {}\".format(test_labels_output_path))\n",
    "    y_test.to_csv(test_labels_output_path, header=False, index=False)\n"
   ]
  },
  {
   "cell_type": "code",
   "execution_count": null,
   "id": "e7a0b2a9",
   "metadata": {},
   "outputs": [],
   "source": [
    "script_processor.run(\n",
    "    code=\"preprocessing_custom.py\",\n",
    "    inputs=[],\n",
    "    outputs=[\n",
    "        ProcessingOutput(output_name=\"train_data\", source=\"/opt/ml/processing/train\"),\n",
    "        ProcessingOutput(output_name=\"test_data\", source=\"/opt/ml/processing/test\"),\n",
    "    ],\n",
    "    arguments=[\"--train-test-split-ratio\", \"0.2\"],\n",
    ")\n",
    "script_processor_job_description = script_processor.jobs[-1].describe()\n",
    "print('$$$$$$$$ outside script processor')\n",
    "output_config = script_processor_job_description[\"ProcessingOutputConfig\"]\n",
    "for output in output_config[\"Outputs\"]:\n",
    "    if output[\"OutputName\"] == \"train_data\":\n",
    "        preprocessed_training_data_custom = output[\"S3Output\"][\"S3Uri\"]\n",
    "        print('$$$$$$$$ preprocessed_training_data_custom: ', preprocessed_training_data_custom)\n",
    "    if output[\"OutputName\"] == \"test_data\":\n",
    "        preprocessed_test_data_custom = output[\"S3Output\"][\"S3Uri\"]\n",
    "        print('$$$$$$$$ preprocessed_test_data_custom: ', preprocessed_test_data_custom)\n",
    "        "
   ]
  },
  {
   "cell_type": "code",
   "execution_count": null,
   "id": "e0a5e579",
   "metadata": {},
   "outputs": [],
   "source": [
    "training_custom_features = pd.read_csv(preprocessed_training_data_custom + \"/train_features.csv\", nrows=10)\n",
    "print(\"Training features shape: {}\".format(training_features.shape))\n",
    "training_custom_features.head(n=10)"
   ]
  },
  {
   "cell_type": "markdown",
   "id": "10f80395",
   "metadata": {
    "tags": []
   },
   "source": [
    "## Model Training"
   ]
  },
  {
   "cell_type": "code",
   "execution_count": null,
   "id": "adc4402a",
   "metadata": {},
   "outputs": [],
   "source": [
    "from sagemaker.sklearn.estimator import SKLearn\n",
    "\n",
    "sklearn = SKLearn(\n",
    "    entry_point=\"train.py\", framework_version=\"0.20.0\", instance_type=\"ml.m5.xlarge\", role=role\n",
    ")"
   ]
  },
  {
   "cell_type": "code",
   "execution_count": null,
   "id": "673a261d",
   "metadata": {},
   "outputs": [],
   "source": [
    "# Using previous train.py"
   ]
  },
  {
   "cell_type": "code",
   "execution_count": null,
   "id": "b9a9a5a8",
   "metadata": {},
   "outputs": [],
   "source": [
    "sklearn.fit({\"train\": preprocessed_training_data_custom})\n",
    "training_job_description = sklearn.jobs[-1].describe()\n",
    "model_data_s3_uri = \"{}{}/{}\".format(\n",
    "    training_job_description[\"OutputDataConfig\"][\"S3OutputPath\"],\n",
    "    training_job_description[\"TrainingJobName\"],\n",
    "    \"output/model.tar.gz\",\n",
    ")\n",
    "print('model_data_s3_uri: ', model_data_s3_uri)"
   ]
  },
  {
   "cell_type": "markdown",
   "id": "b19acbe2",
   "metadata": {
    "tags": []
   },
   "source": [
    "## Model Evaluation"
   ]
  },
  {
   "cell_type": "code",
   "execution_count": 2,
   "id": "a8dcb54f",
   "metadata": {},
   "outputs": [],
   "source": [
    "# Using previous Evaluation.py"
   ]
  },
  {
   "cell_type": "code",
   "execution_count": null,
   "id": "48ba5996",
   "metadata": {},
   "outputs": [],
   "source": [
    "import json\n",
    "from sagemaker.s3 import S3Downloader\n",
    "\n",
    "sklearn_processor.run(\n",
    "    code=\"evaluation.py\",\n",
    "    inputs=[\n",
    "        ProcessingInput(source=model_data_s3_uri, destination=\"/opt/ml/processing/model\"),\n",
    "        ProcessingInput(source=preprocessed_test_data_custom, destination=\"/opt/ml/processing/test\"),\n",
    "    ],\n",
    "    outputs=[ProcessingOutput(output_name=\"evaluation\", source=\"/opt/ml/processing/evaluation\")],\n",
    ")\n",
    "evaluation_job_description = sklearn_processor.jobs[-1].describe()"
   ]
  },
  {
   "cell_type": "code",
   "execution_count": null,
   "id": "d7eb0783",
   "metadata": {},
   "outputs": [],
   "source": [
    "evaluation_output_config = evaluation_job_description[\"ProcessingOutputConfig\"]\n",
    "for output in evaluation_output_config[\"Outputs\"]:\n",
    "    if output[\"OutputName\"] == \"evaluation\":\n",
    "        evaluation_s3_uri = output[\"S3Output\"][\"S3Uri\"] + \"/evaluation.json\"\n",
    "        break\n",
    "\n",
    "evaluation_output = S3Downloader.read_file(evaluation_s3_uri)\n",
    "evaluation_output_dict = json.loads(evaluation_output)\n",
    "print(json.dumps(evaluation_output_dict, sort_keys=True, indent=4))"
   ]
  },
  {
   "cell_type": "markdown",
   "id": "54276ec7",
   "metadata": {
    "tags": []
   },
   "source": [
    "## Batch Inference using Batch Transform"
   ]
  },
  {
   "cell_type": "code",
   "execution_count": null,
   "id": "5a10e391",
   "metadata": {},
   "outputs": [],
   "source": [
    "import sagemaker as sage\n",
    "from time import gmtime, strftime\n",
    "\n",
    "sagemaker_session = sage.Session()\n",
    "\n",
    "transform_output_folder = \"batch-transform-output\"\n",
    "#output_path = \"s3://{}/{}\".format(sagemaker_session.default_bucket(), transform_output_folder)\n",
    "output_path = \"s3://{snowflake-stage-area-bucket}/batch-transform-output\"\n",
    "print(\"output_path: \", output_path)\n",
    "transformer = sklearn.transformer(\n",
    "    instance_count=1,\n",
    "    instance_type=\"ml.m5.xlarge\",\n",
    "    output_path=output_path,\n",
    "    assemble_with=\"Line\",\n",
    "    accept=\"text/csv\",\n",
    ")"
   ]
  },
  {
   "cell_type": "code",
   "execution_count": null,
   "id": "80c83dfe",
   "metadata": {},
   "outputs": [],
   "source": [
    "data_location = \"{}/{}\".format(preprocessed_test_data_custom, \"test_features.csv\") \n",
    "print(\"data_location: \", data_location)\n",
    "df = pd.read_csv(data_location, nrows=5)\n",
    "df.head(n=5)"
   ]
  },
  {
   "cell_type": "code",
   "execution_count": null,
   "id": "96c00d78",
   "metadata": {},
   "outputs": [],
   "source": [
    "transformer.transform(\n",
    "    data_location, content_type=\"text/csv\", split_type=\"Line\"#, input_filter=\"$[1:]\"\n",
    ")\n",
    "transformer.wait()"
   ]
  },
  {
   "cell_type": "code",
   "execution_count": null,
   "id": "14fccdc3",
   "metadata": {},
   "outputs": [],
   "source": [
    "import pandas as pd\n",
    "\n",
    "inference_output_data = \"{}/{}\".format(output_path, \"test_features.csv.out\")\n",
    "df = pd.read_csv(inference_output_data, nrows=10)\n",
    "df.head(n=10)"
   ]
  },
  {
   "cell_type": "markdown",
   "id": "3eaced3a",
   "metadata": {
    "tags": []
   },
   "source": [
    "## Inference Output Write to Snowflake"
   ]
  },
  {
   "cell_type": "code",
   "execution_count": 4,
   "id": "8eb2d8cd",
   "metadata": {},
   "outputs": [
    {
     "name": "stdout",
     "output_type": "stream",
     "text": [
      "Overwriting write_output.py\n"
     ]
    }
   ],
   "source": [
    "%%writefile write_output.py\n",
    "\n",
    "import argparse\n",
    "import os\n",
    "import warnings\n",
    "import datetime\n",
    "import pandas as pd\n",
    "import numpy as np\n",
    "import io\n",
    "import joblib\n",
    "\n",
    "from sklearn.model_selection import train_test_split\n",
    "from sklearn.preprocessing import StandardScaler, OneHotEncoder, LabelBinarizer, KBinsDiscretizer\n",
    "from sklearn.preprocessing import PolynomialFeatures\n",
    "from sklearn.compose import make_column_transformer\n",
    "from sklearn.exceptions import DataConversionWarning\n",
    "from sklearn.pipeline import Pipeline\n",
    "from sklearn.compose import ColumnTransformer\n",
    "\n",
    "from snowflake.snowpark import (\n",
    "    Column,\n",
    "    DataFrame,\n",
    "    Session,\n",
    "    Window\n",
    ")\n",
    "from snowflake.snowpark import functions as f\n",
    "from snowflake.snowpark.types import IntegerType, StringType, StructType, DateType, StructField, MapType\n",
    "from snowflake.snowpark import Session\n",
    "from snowflake.snowpark.functions import col, when, to_date\n",
    "\n",
    "\n",
    "warnings.filterwarnings(action=\"ignore\", category=DataConversionWarning)\n",
    "\n",
    "\n",
    "\n",
    "CONNECTION_PARAMETERS = {\n",
    "\"account\": \"\",\n",
    "\"user\": \"\",\n",
    "\"password\": \"\",\n",
    "\"role\": \"\",\n",
    "\"warehouse\": \"\",\n",
    "\"database\": \"\",\n",
    "\"schema\": \"\",\n",
    "}\n",
    "    \n",
    "if __name__ == \"__main__\":\n",
    "    parser = argparse.ArgumentParser()\n",
    "    #parser.add_argument(\"--train-test-split-ratio\", type=float, default=0.3)\n",
    "    args, _ = parser.parse_known_args()\n",
    "\n",
    "    print(\"Received arguments {}\".format(args))\n",
    "    \n",
    "   \n",
    "    snowflake_conn_session = Session.builder.configs(CONNECTION_PARAMETERS).create()\n",
    "    \n",
    "    snowflake_conn_session.sql(\"select current_warehouse(), current_database(), current_schema(), current_role()\").show()\n",
    "    \n",
    "    table_query = \"\"\"create table inference_output (\n",
    "    predictions varchar\n",
    "    )\"\"\"\n",
    "    \n",
    "    snowflake_conn_session.sql(table_query).show()\n",
    "    \n",
    "    copy_data = \"\"\"copy into inference_output\n",
    "    from 's3://{snowflake-stage-area-bucket}/batch-transform-output/test_features.csv.out'\n",
    "    credentials = (aws_key_id = '' aws_secret_key = '')\n",
    "    file_format = (format_name='public.csv_file_format');\"\"\"\n",
    "    \n",
    "    snowflake_conn_session.sql(copy_data).show()"
   ]
  },
  {
   "cell_type": "code",
   "execution_count": null,
   "id": "1f7a1760",
   "metadata": {},
   "outputs": [],
   "source": [
    "script_processor.run(\n",
    "    code=\"write_output.py\",\n",
    "    inputs=[ProcessingInput(source=\"s3://{snowflake-stage-area-bucket}/batch-transform-output/test_features.csv.out\", destination=\"/opt/ml/processing/input\")],\n",
    ")"
   ]
  },
  {
   "cell_type": "code",
   "execution_count": null,
   "id": "b6b4a493",
   "metadata": {},
   "outputs": [],
   "source": []
  }
 ],
 "metadata": {
  "instance_type": "ml.t3.medium",
  "kernelspec": {
   "display_name": "Python 3 (Data Science 2.0)",
   "language": "python",
   "name": "python3__SAGEMAKER_INTERNAL__arn:aws:sagemaker:eu-west-2:712779665605:image/sagemaker-data-science-38"
  },
  "language_info": {
   "codemirror_mode": {
    "name": "ipython",
    "version": 3
   },
   "file_extension": ".py",
   "mimetype": "text/x-python",
   "name": "python",
   "nbconvert_exporter": "python",
   "pygments_lexer": "ipython3",
   "version": "3.8.13"
  }
 },
 "nbformat": 4,
 "nbformat_minor": 5
}
