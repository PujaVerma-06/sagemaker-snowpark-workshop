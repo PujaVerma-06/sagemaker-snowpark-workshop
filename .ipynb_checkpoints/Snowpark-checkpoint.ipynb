{
 "cells": [
  {
   "cell_type": "code",
   "execution_count": 3,
   "metadata": {
    "Collapsed": "false"
   },
   "outputs": [
    {
     "name": "stdout",
     "output_type": "stream",
     "text": [
      "Requirement already satisfied: snowflake-snowpark-python==0.10.0 in /opt/conda/lib/python3.8/site-packages (0.10.0)\n",
      "Requirement already satisfied: typing-extensions>=4.1.0 in /opt/conda/lib/python3.8/site-packages (from snowflake-snowpark-python==0.10.0) (4.4.0)\n",
      "Requirement already satisfied: wheel in /opt/conda/lib/python3.8/site-packages (from snowflake-snowpark-python==0.10.0) (0.37.0)\n",
      "Requirement already satisfied: setuptools>=40.6.0 in /opt/conda/lib/python3.8/site-packages (from snowflake-snowpark-python==0.10.0) (58.0.4)\n",
      "Requirement already satisfied: cloudpickle<=2.0.0,>=1.6.0 in /opt/conda/lib/python3.8/site-packages (from snowflake-snowpark-python==0.10.0) (2.0.0)\n",
      "Requirement already satisfied: snowflake-connector-python>=2.7.12 in /opt/conda/lib/python3.8/site-packages (from snowflake-snowpark-python==0.10.0) (2.8.0)\n",
      "Requirement already satisfied: pytz in /opt/conda/lib/python3.8/site-packages (from snowflake-connector-python>=2.7.12->snowflake-snowpark-python==0.10.0) (2021.3)\n",
      "Requirement already satisfied: pyjwt<3.0.0 in /opt/conda/lib/python3.8/site-packages (from snowflake-connector-python>=2.7.12->snowflake-snowpark-python==0.10.0) (2.6.0)\n",
      "Requirement already satisfied: requests<3.0.0 in /opt/conda/lib/python3.8/site-packages (from snowflake-connector-python>=2.7.12->snowflake-snowpark-python==0.10.0) (2.28.1)\n",
      "Requirement already satisfied: pyOpenSSL<23.0.0,>=16.2.0 in /opt/conda/lib/python3.8/site-packages (from snowflake-connector-python>=2.7.12->snowflake-snowpark-python==0.10.0) (21.0.0)\n",
      "Requirement already satisfied: idna<4,>=2.5 in /opt/conda/lib/python3.8/site-packages (from snowflake-connector-python>=2.7.12->snowflake-snowpark-python==0.10.0) (3.2)\n",
      "Requirement already satisfied: urllib3<1.27,>=1.21.1 in /opt/conda/lib/python3.8/site-packages (from snowflake-connector-python>=2.7.12->snowflake-snowpark-python==0.10.0) (1.26.12)\n",
      "Requirement already satisfied: asn1crypto<2.0.0,>0.24.0 in /opt/conda/lib/python3.8/site-packages (from snowflake-connector-python>=2.7.12->snowflake-snowpark-python==0.10.0) (1.5.1)\n",
      "Requirement already satisfied: charset-normalizer<3,>=2 in /opt/conda/lib/python3.8/site-packages (from snowflake-connector-python>=2.7.12->snowflake-snowpark-python==0.10.0) (2.0.4)\n",
      "Requirement already satisfied: pycryptodomex!=3.5.0,<4.0.0,>=3.2 in /opt/conda/lib/python3.8/site-packages (from snowflake-connector-python>=2.7.12->snowflake-snowpark-python==0.10.0) (3.15.0)\n",
      "Requirement already satisfied: filelock<4,>=3.5 in /opt/conda/lib/python3.8/site-packages (from snowflake-connector-python>=2.7.12->snowflake-snowpark-python==0.10.0) (3.8.0)\n",
      "Requirement already satisfied: cryptography<37.0.0,>=3.1.0 in /opt/conda/lib/python3.8/site-packages (from snowflake-connector-python>=2.7.12->snowflake-snowpark-python==0.10.0) (36.0.2)\n",
      "Requirement already satisfied: certifi>=2017.4.17 in /opt/conda/lib/python3.8/site-packages (from snowflake-connector-python>=2.7.12->snowflake-snowpark-python==0.10.0) (2022.6.15)\n",
      "Requirement already satisfied: cffi<2.0.0,>=1.9 in /opt/conda/lib/python3.8/site-packages (from snowflake-connector-python>=2.7.12->snowflake-snowpark-python==0.10.0) (1.14.6)\n",
      "Requirement already satisfied: oscrypto<2.0.0 in /opt/conda/lib/python3.8/site-packages (from snowflake-connector-python>=2.7.12->snowflake-snowpark-python==0.10.0) (1.3.0)\n",
      "Requirement already satisfied: pycparser in /opt/conda/lib/python3.8/site-packages (from cffi<2.0.0,>=1.9->snowflake-connector-python>=2.7.12->snowflake-snowpark-python==0.10.0) (2.20)\n",
      "Requirement already satisfied: six>=1.5.2 in /opt/conda/lib/python3.8/site-packages (from pyOpenSSL<23.0.0,>=16.2.0->snowflake-connector-python>=2.7.12->snowflake-snowpark-python==0.10.0) (1.16.0)\n",
      "\u001b[33mWARNING: Running pip as the 'root' user can result in broken permissions and conflicting behaviour with the system package manager. It is recommended to use a virtual environment instead: https://pip.pypa.io/warnings/venv\u001b[0m\u001b[33m\n",
      "\u001b[0m\n",
      "\u001b[1m[\u001b[0m\u001b[34;49mnotice\u001b[0m\u001b[1;39;49m]\u001b[0m\u001b[39;49m A new release of pip available: \u001b[0m\u001b[31;49m22.2.2\u001b[0m\u001b[39;49m -> \u001b[0m\u001b[32;49m22.3\u001b[0m\n",
      "\u001b[1m[\u001b[0m\u001b[34;49mnotice\u001b[0m\u001b[1;39;49m]\u001b[0m\u001b[39;49m To update, run: \u001b[0m\u001b[32;49mpip install --upgrade pip\u001b[0m\n"
     ]
    }
   ],
   "source": [
    "!pip install snowflake-snowpark-python==0.10.0"
   ]
  },
  {
   "cell_type": "code",
   "execution_count": 4,
   "metadata": {
    "Collapsed": "false"
   },
   "outputs": [
    {
     "name": "stderr",
     "output_type": "stream",
     "text": [
      "/opt/conda/lib/python3.8/site-packages/scipy/__init__.py:146: UserWarning: A NumPy version >=1.16.5 and <1.23.0 is required for this version of SciPy (detected version 1.23.2\n",
      "  warnings.warn(f\"A NumPy version >={np_minversion} and <{np_maxversion}\"\n"
     ]
    }
   ],
   "source": [
    "import os\n",
    "from pprint import pprint\n",
    "import re\n",
    "import datetime\n",
    "\n",
    "from sklearn.impute import SimpleImputer\n",
    "from sklearn.pipeline import Pipeline\n",
    "from sklearn.preprocessing import StandardScaler, OneHotEncoder\n",
    "from sklearn.compose import ColumnTransformer\n",
    "from sklearn.ensemble import RandomForestClassifier\n",
    "from sklearn.model_selection import train_test_split\n",
    "from sklearn.metrics import classification_report"
   ]
  },
  {
   "cell_type": "markdown",
   "metadata": {
    "Collapsed": "false"
   },
   "source": [
    "# Snowflake Connection"
   ]
  },
  {
   "cell_type": "code",
   "execution_count": 5,
   "metadata": {
    "Collapsed": "false"
   },
   "outputs": [
    {
     "name": "stderr",
     "output_type": "stream",
     "text": [
      "/opt/conda/lib/python3.8/site-packages/snowflake/connector/options.py:96: UserWarning: You have an incompatible version of 'pyarrow' installed (9.0.0), please install a version that adheres to: 'pyarrow<8.1.0,>=8.0.0; extra == \"pandas\"'\n",
      "  warn_incompatible_dep(\n"
     ]
    }
   ],
   "source": [
    "from snowflake.snowpark import (\n",
    "    Column,\n",
    "    DataFrame,\n",
    "    Session,\n",
    "    Window\n",
    ")\n",
    "\n",
    "import snowflake.snowpark\n",
    "from snowflake.snowpark import functions as f\n",
    "from snowflake.snowpark.types import IntegerType, StringType, StructType, DateType, StructField, MapType"
   ]
  },
  {
   "cell_type": "code",
   "execution_count": 6,
   "metadata": {
    "Collapsed": "false"
   },
   "outputs": [],
   "source": [
    "connection_parameters = {\n",
    "\"account\": \"gi02106.eu-west-2.aws\",\n",
    "\"user\": \"pujaverma\",\n",
    "\"password\": \"Itzme#123\",\n",
    "\"role\": \"accountadmin\",\n",
    "\"warehouse\": \"workshopwh\",\n",
    "\"database\": \"workshopdb\",\n",
    "\"schema\": \"workshopsch\",\n",
    "}"
   ]
  },
  {
   "cell_type": "code",
   "execution_count": 7,
   "metadata": {
    "Collapsed": "false"
   },
   "outputs": [],
   "source": [
    "snowflake_conn_session = Session.builder.configs(connection_parameters).create()"
   ]
  },
  {
   "cell_type": "code",
   "execution_count": 8,
   "metadata": {
    "Collapsed": "false"
   },
   "outputs": [
    {
     "name": "stdout",
     "output_type": "stream",
     "text": [
      "---------------------------------------------------------------------\n",
      "|\"CURRENT_WAREHOUSE()\"  |\"CURRENT_DATABASE()\"  |\"CURRENT_SCHEMA()\"  |\n",
      "---------------------------------------------------------------------\n",
      "|WORKSHOPWH             |WORKSHOPDB            |WORKSHOPSCH         |\n",
      "---------------------------------------------------------------------\n",
      "\n"
     ]
    }
   ],
   "source": [
    "snowflake_conn_session.sql(\"select current_warehouse(), current_database(), current_schema()\").show()"
   ]
  },
  {
   "cell_type": "code",
   "execution_count": 9,
   "metadata": {
    "Collapsed": "false"
   },
   "outputs": [],
   "source": [
    "snow_df = snowflake_conn_session.table(\"Snowpark_dataset\")"
   ]
  },
  {
   "cell_type": "code",
   "execution_count": 10,
   "metadata": {
    "Collapsed": "false"
   },
   "outputs": [
    {
     "data": {
      "text/plain": [
       "[StructField('ID', LongType(), nullable=True),\n",
       " StructField('CHECKING_STATUS', StringType(), nullable=True),\n",
       " StructField('DURATION', LongType(), nullable=True),\n",
       " StructField('CREDIT_HISTORY', StringType(), nullable=True),\n",
       " StructField('PURPOSE', StringType(), nullable=True),\n",
       " StructField('CREDIT_AMOUNT', LongType(), nullable=True),\n",
       " StructField('SAVINGS_STATUS', StringType(), nullable=True),\n",
       " StructField('EMPLOYMENT', StringType(), nullable=True),\n",
       " StructField('INSTALLMENT_COMMITMENT', LongType(), nullable=True),\n",
       " StructField('PERSONAL_STATUS', StringType(), nullable=True),\n",
       " StructField('THER_PARTIES', StringType(), nullable=True),\n",
       " StructField('RESIDENCE_SINCE', LongType(), nullable=True),\n",
       " StructField('PROPERTY_MAGNITUDE', StringType(), nullable=True),\n",
       " StructField('AGE', StringType(), nullable=True),\n",
       " StructField('OTHER_PAYMENT_PLANS', StringType(), nullable=True),\n",
       " StructField('HOUSING', StringType(), nullable=True),\n",
       " StructField('EXISTING_CREDITS', LongType(), nullable=True),\n",
       " StructField('JOB', StringType(), nullable=True),\n",
       " StructField('NUM_DEPENDENTS', LongType(), nullable=True),\n",
       " StructField('OWN_TELEPHONE', StringType(), nullable=True),\n",
       " StructField('FOREIGN_WORKER', StringType(), nullable=True),\n",
       " StructField('CLASS', StringType(), nullable=True)]"
      ]
     },
     "execution_count": 10,
     "metadata": {},
     "output_type": "execute_result"
    }
   ],
   "source": [
    "snow_df.schema.fields"
   ]
  },
  {
   "cell_type": "code",
   "execution_count": 11,
   "metadata": {
    "Collapsed": "false"
   },
   "outputs": [
    {
     "name": "stdout",
     "output_type": "stream",
     "text": [
      "---------------------------------------------------------------------------------------------------------------------------------------------------------------------------------------------------------------------------------------------------------------------------------------------------------------------------------------------------------------------------------------------------\n",
      "|\"ID\"  |\"CHECKING_STATUS\"  |\"DURATION\"  |\"CREDIT_HISTORY\"                |\"PURPOSE\"  |\"CREDIT_AMOUNT\"  |\"SAVINGS_STATUS\"  |\"EMPLOYMENT\"  |\"INSTALLMENT_COMMITMENT\"  |\"PERSONAL_STATUS\"   |\"THER_PARTIES\"  |\"RESIDENCE_SINCE\"  |\"PROPERTY_MAGNITUDE\"  |\"AGE\"  |\"OTHER_PAYMENT_PLANS\"  |\"HOUSING\"  |\"EXISTING_CREDITS\"  |\"JOB\"    |\"NUM_DEPENDENTS\"  |\"OWN_TELEPHONE\"  |\"FOREIGN_WORKER\"  |\"CLASS\"  |\n",
      "---------------------------------------------------------------------------------------------------------------------------------------------------------------------------------------------------------------------------------------------------------------------------------------------------------------------------------------------------------------------------------------------------\n",
      "|1     |<0                 |6           |critical/other existing credit  |radio/tv   |1169             |no known savings  |>=7           |4                         |male single         |none            |4                  |real estate           |67     |none                   |own        |2                   |skilled  |1                 |yes              |yes               |good     |\n",
      "|2     |0<=X<200           |48          |existing paid                   |radio/tv   |5951             |<100              |1<=X<4        |2                         |female div/dep/mar  |none            |2                  |real estate           |22     |none                   |own        |1                   |skilled  |1                 |none             |yes               |bad      |\n",
      "---------------------------------------------------------------------------------------------------------------------------------------------------------------------------------------------------------------------------------------------------------------------------------------------------------------------------------------------------------------------------------------------------\n",
      "\n"
     ]
    }
   ],
   "source": [
    "snow_df.show(2)"
   ]
  },
  {
   "cell_type": "code",
   "execution_count": 12,
   "metadata": {
    "Collapsed": "false"
   },
   "outputs": [
    {
     "name": "stdout",
     "output_type": "stream",
     "text": [
      "----------------------------------------------------------------------------------------------------------------------------------------------------------------------------------------------------------------------------------------------------------------------------------------------------------------------------------------------------------------------------------------------------\n",
      "|\"ID\"  |\"CHECKING_STATUS\"  |\"DURATION\"  |\"CREDIT_HISTORY\"                |\"PURPOSE\"  |\"CREDIT_AMOUNT\"  |\"SAVINGS_STATUS\"  |\"EMPLOYMENT\"  |\"INSTALLMENT_COMMITMENT\"  |\"PERSONAL_STATUS\"   |\"THER_PARTIES\"  |\"RESIDENCE_SINCE\"  |\"PROPERTY_MAGNITUDE\"  |\"AGE\"  |\"OTHER_PAYMENT_PLANS\"  |\"HOUSING\"  |\"EXISTING_CREDITS\"  |\"JOB\"    |\"NUM_DEPENDENTS\"  |\"OWN_TELEPHONE\"  |\"FOREIGN_WORKER\"  |\"TARGET\"  |\n",
      "----------------------------------------------------------------------------------------------------------------------------------------------------------------------------------------------------------------------------------------------------------------------------------------------------------------------------------------------------------------------------------------------------\n",
      "|1     |<0                 |6           |critical/other existing credit  |radio/tv   |1169             |no known savings  |>=7           |4                         |male single         |none            |4                  |real estate           |67     |none                   |own        |2                   |skilled  |1                 |yes              |yes               |1         |\n",
      "|2     |0<=X<200           |48          |existing paid                   |radio/tv   |5951             |<100              |1<=X<4        |2                         |female div/dep/mar  |none            |2                  |real estate           |22     |none                   |own        |1                   |skilled  |1                 |none             |yes               |0         |\n",
      "----------------------------------------------------------------------------------------------------------------------------------------------------------------------------------------------------------------------------------------------------------------------------------------------------------------------------------------------------------------------------------------------------\n",
      "\n"
     ]
    }
   ],
   "source": [
    "snow_df = snow_df.with_column('TARGET', f.when(f.col('CLASS') == 'good',1).otherwise(0))\n",
    "snow_df = snow_df.drop(f.col('CLASS'))\n",
    "\n",
    "snow_df.show(2)"
   ]
  },
  {
   "cell_type": "code",
   "execution_count": 13,
   "metadata": {
    "Collapsed": "false"
   },
   "outputs": [],
   "source": [
    "snow_df_train, snow_df_inf = snow_df.random_split([0.8, 0.2], seed=1234)\n",
    "\n",
    "snow_df_train.write.save_as_table('training_table', mode=\"overwrite\", create_temp_table=False)\n",
    "snow_df_inf.write.save_as_table('inference_table', mode=\"overwrite\", create_temp_table=False)"
   ]
  },
  {
   "cell_type": "code",
   "execution_count": null,
   "metadata": {
    "Collapsed": "false"
   },
   "outputs": [],
   "source": [
    "session = Session.builder.configs(connection_parameters).create()\n",
    "session.add_packages('snowflake-snowpark-python', 'scikit-learn', 'pandas', 'numpy', 'joblib', 'cachetools')\n",
    "\n",
    "def save_file(session, model, path):\n",
    "    input_stream = io.BytesIO()\n",
    "    joblib.dump(model, input_stream)\n",
    "    session._conn._cursor.upload_stream(input_stream, path)\n",
    "    return \"successfully created file: \" + path\n",
    "\n",
    "def train_model(session: snowflake.snowpark.Session) -> float:\n",
    "    \n",
    "    \n",
    "    df_train = session.table('training_table')\n",
    "\n",
    "    df_train_pd = df_train.to_pandas()\n",
    "    \n",
    "    numerical_cols = list(df_train_pd.select_dtypes(['float64', 'int64']).columns)\n",
    "    categorical_cols = list(df_train_pd.drop('TARGET', axis=1).select_dtypes(['object']).columns)\n",
    "\n",
    "    X = df_train_pd.drop('TARGET', axis=1)\n",
    "    y = df_train_pd['TARGET']\n",
    "    X_train, X_test, y_train, y_test = train_test_split(X, y, test_size=0.2, random_state=1234)\n",
    "\n",
    "    numeric_transformer = Pipeline(steps=[\n",
    "        ('imputer', SimpleImputer(strategy='median')),\n",
    "        ('scaler', StandardScaler())])\n",
    "    categorical_transformer = Pipeline(steps=[\n",
    "        ('imputer', SimpleImputer(strategy='constant', fill_value='missing')),\n",
    "        ('one_hot', OneHotEncoder(handle_unknown='ignore'))])\n",
    "    preprocessor = ColumnTransformer(\n",
    "        transformers=[\n",
    "            ('num', numeric_transformer, numerical_cols),\n",
    "            ('cat', categorical_transformer, categorical_cols)])\n",
    "\n",
    "    rf_pipe = Pipeline(steps=[('preprocessor', preprocessor),\n",
    "                          ('classifier',  RandomForestClassifier(class_weight='balanced',\n",
    "                                                                 random_state=0))])\n",
    "\n",
    "    rf_clf = rf_pipe.fit(X_train, y_train)\n",
    "    \n",
    "    save_file(session, rf_clf, \"@SNOWFLAKESTAGE/credit_g_model.joblib\")\n",
    "\n",
    "    y_pred = rf_clf.predict(X_test)\n",
    "    return classification_report(y_test, y_pred)\n",
    "\n",
    "train_model_sp = f.sproc(train_model(session), replace=True)\n",
    "\n",
    "train_model_sp()"
   ]
  },
  {
   "cell_type": "code",
   "execution_count": 1,
   "metadata": {
    "Collapsed": "false"
   },
   "outputs": [
    {
     "name": "stdout",
     "output_type": "stream",
     "text": [
      "Collecting cachetools\n",
      "  Downloading cachetools-5.2.0-py3-none-any.whl (9.3 kB)\n",
      "Installing collected packages: cachetools\n",
      "Successfully installed cachetools-5.2.0\n",
      "\u001b[33mWARNING: Running pip as the 'root' user can result in broken permissions and conflicting behaviour with the system package manager. It is recommended to use a virtual environment instead: https://pip.pypa.io/warnings/venv\u001b[0m\u001b[33m\n",
      "\u001b[0m\n",
      "\u001b[1m[\u001b[0m\u001b[34;49mnotice\u001b[0m\u001b[1;39;49m]\u001b[0m\u001b[39;49m A new release of pip available: \u001b[0m\u001b[31;49m22.2.2\u001b[0m\u001b[39;49m -> \u001b[0m\u001b[32;49m22.3\u001b[0m\n",
      "\u001b[1m[\u001b[0m\u001b[34;49mnotice\u001b[0m\u001b[1;39;49m]\u001b[0m\u001b[39;49m To update, run: \u001b[0m\u001b[32;49mpip install --upgrade pip\u001b[0m\n"
     ]
    }
   ],
   "source": [
    "#!pip install cachetools"
   ]
  },
  {
   "cell_type": "code",
   "execution_count": null,
   "metadata": {},
   "outputs": [],
   "source": []
  }
 ],
 "metadata": {
  "instance_type": "ml.t3.medium",
  "kernelspec": {
   "display_name": "Python 3 (Data Science 2.0)",
   "language": "python",
   "name": "python3__SAGEMAKER_INTERNAL__arn:aws:sagemaker:eu-west-2:712779665605:image/sagemaker-data-science-38"
  },
  "language_info": {
   "codemirror_mode": {
    "name": "ipython",
    "version": 3
   },
   "file_extension": ".py",
   "mimetype": "text/x-python",
   "name": "python",
   "nbconvert_exporter": "python",
   "pygments_lexer": "ipython3",
   "version": "3.8.13"
  }
 },
 "nbformat": 4,
 "nbformat_minor": 4
}
