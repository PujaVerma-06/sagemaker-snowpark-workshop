{
 "cells": [
  {
   "cell_type": "code",
   "execution_count": 2,
   "metadata": {
    "Collapsed": "false"
   },
   "outputs": [
    {
     "name": "stdout",
     "output_type": "stream",
     "text": [
      "Requirement already satisfied: snowflake-snowpark-python in /opt/conda/lib/python3.8/site-packages (0.8.0)\n",
      "Requirement already satisfied: snowflake-connector-python>=2.7.4 in /opt/conda/lib/python3.8/site-packages (from snowflake-snowpark-python) (2.7.11)\n",
      "Requirement already satisfied: cloudpickle<=2.0.0,>=1.6.0 in /opt/conda/lib/python3.8/site-packages (from snowflake-snowpark-python) (2.0.0)\n",
      "Requirement already satisfied: typing-extensions>=4.1.0 in /opt/conda/lib/python3.8/site-packages (from snowflake-snowpark-python) (4.3.0)\n",
      "Requirement already satisfied: setuptools>=40.6.0 in /opt/conda/lib/python3.8/site-packages (from snowflake-snowpark-python) (58.0.4)\n",
      "Requirement already satisfied: wheel in /opt/conda/lib/python3.8/site-packages (from snowflake-snowpark-python) (0.37.0)\n",
      "Requirement already satisfied: asn1crypto<2.0.0,>0.24.0 in /opt/conda/lib/python3.8/site-packages (from snowflake-connector-python>=2.7.4->snowflake-snowpark-python) (1.5.1)\n",
      "Requirement already satisfied: requests<3.0.0 in /opt/conda/lib/python3.8/site-packages (from snowflake-connector-python>=2.7.4->snowflake-snowpark-python) (2.27.1)\n",
      "Requirement already satisfied: pytz in /opt/conda/lib/python3.8/site-packages (from snowflake-connector-python>=2.7.4->snowflake-snowpark-python) (2021.3)\n",
      "Requirement already satisfied: cffi<2.0.0,>=1.9 in /opt/conda/lib/python3.8/site-packages (from snowflake-connector-python>=2.7.4->snowflake-snowpark-python) (1.14.6)\n",
      "Requirement already satisfied: pyjwt<3.0.0 in /opt/conda/lib/python3.8/site-packages (from snowflake-connector-python>=2.7.4->snowflake-snowpark-python) (2.4.0)\n",
      "Requirement already satisfied: oscrypto<2.0.0 in /opt/conda/lib/python3.8/site-packages (from snowflake-connector-python>=2.7.4->snowflake-snowpark-python) (1.3.0)\n",
      "Requirement already satisfied: charset-normalizer<3,>=2 in /opt/conda/lib/python3.8/site-packages (from snowflake-connector-python>=2.7.4->snowflake-snowpark-python) (2.0.4)\n",
      "Requirement already satisfied: certifi>=2017.4.17 in /opt/conda/lib/python3.8/site-packages (from snowflake-connector-python>=2.7.4->snowflake-snowpark-python) (2021.10.8)\n",
      "Requirement already satisfied: cryptography<37.0.0,>=3.1.0 in /opt/conda/lib/python3.8/site-packages (from snowflake-connector-python>=2.7.4->snowflake-snowpark-python) (36.0.2)\n",
      "Requirement already satisfied: pyOpenSSL<23.0.0,>=16.2.0 in /opt/conda/lib/python3.8/site-packages (from snowflake-connector-python>=2.7.4->snowflake-snowpark-python) (21.0.0)\n",
      "Requirement already satisfied: urllib3<1.27,>=1.21.1 in /opt/conda/lib/python3.8/site-packages (from snowflake-connector-python>=2.7.4->snowflake-snowpark-python) (1.26.9)\n",
      "Requirement already satisfied: pycryptodomex!=3.5.0,<4.0.0,>=3.2 in /opt/conda/lib/python3.8/site-packages (from snowflake-connector-python>=2.7.4->snowflake-snowpark-python) (3.15.0)\n",
      "Requirement already satisfied: idna<4,>=2.5 in /opt/conda/lib/python3.8/site-packages (from snowflake-connector-python>=2.7.4->snowflake-snowpark-python) (3.2)\n",
      "Requirement already satisfied: pycparser in /opt/conda/lib/python3.8/site-packages (from cffi<2.0.0,>=1.9->snowflake-connector-python>=2.7.4->snowflake-snowpark-python) (2.20)\n",
      "Requirement already satisfied: six>=1.5.2 in /opt/conda/lib/python3.8/site-packages (from pyOpenSSL<23.0.0,>=16.2.0->snowflake-connector-python>=2.7.4->snowflake-snowpark-python) (1.16.0)\n",
      "\u001b[33mWARNING: Running pip as the 'root' user can result in broken permissions and conflicting behaviour with the system package manager. It is recommended to use a virtual environment instead: https://pip.pypa.io/warnings/venv\u001b[0m\u001b[33m\n",
      "\u001b[0m"
     ]
    }
   ],
   "source": [
    "!pip install snowflake-snowpark-python"
   ]
  },
  {
   "cell_type": "code",
   "execution_count": 3,
   "metadata": {
    "Collapsed": "false"
   },
   "outputs": [],
   "source": [
    "import os\n",
    "from pprint import pprint\n",
    "import re\n",
    "import datetime"
   ]
  },
  {
   "cell_type": "code",
   "execution_count": 4,
   "metadata": {
    "Collapsed": "false"
   },
   "outputs": [],
   "source": [
    "from snowflake.snowpark import (\n",
    "    Column,\n",
    "    DataFrame,\n",
    "    Session,\n",
    "    Window\n",
    ")\n",
    "from snowflake.snowpark import functions as f\n",
    "from snowflake.snowpark.types import IntegerType, StringType, StructType, DateType, StructField, MapType"
   ]
  },
  {
   "cell_type": "code",
   "execution_count": 10,
   "metadata": {
    "Collapsed": "false"
   },
   "outputs": [],
   "source": [
    "connection_parameters = {\n",
    "\"account\": \"\",\n",
    "\"user\": \"\",\n",
    "\"password\": \"\",\n",
    "\"role\": \"a\",\n",
    "\"warehouse\": \"\",\n",
    "\"database\": \"\",\n",
    "\"schema\": \"\",\n",
    "}"
   ]
  },
  {
   "cell_type": "code",
   "execution_count": 11,
   "metadata": {
    "Collapsed": "false"
   },
   "outputs": [],
   "source": [
    "snowflake_conn_session = Session.builder.configs(connection_parameters).create()"
   ]
  },
  {
   "cell_type": "code",
   "execution_count": 12,
   "metadata": {
    "Collapsed": "false"
   },
   "outputs": [
    {
     "name": "stdout",
     "output_type": "stream",
     "text": [
      "---------------------------------------------------------------------\n",
      "|\"CURRENT_WAREHOUSE()\"  |\"CURRENT_DATABASE()\"  |\"CURRENT_SCHEMA()\"  |\n",
      "---------------------------------------------------------------------\n",
      "|WORKSHOPWH             |WORKSHOPDB            |WORKSHOPSCH         |\n",
      "---------------------------------------------------------------------\n",
      "\n"
     ]
    }
   ],
   "source": [
    "snowflake_conn_session.sql(\"select current_warehouse(), current_database(), current_schema()\").show()"
   ]
  },
  {
   "cell_type": "code",
   "execution_count": 13,
   "metadata": {
    "Collapsed": "false"
   },
   "outputs": [],
   "source": [
    "df = snowflake_conn_session.table(\"Snowpark_dataset\")"
   ]
  },
  {
   "cell_type": "code",
   "execution_count": 14,
   "metadata": {
    "Collapsed": "false"
   },
   "outputs": [
    {
     "data": {
      "text/plain": [
       "[StructField('ID', LongType(), nullable=True),\n",
       " StructField('CHECKING_STATUS', StringType(), nullable=True),\n",
       " StructField('DURATION', LongType(), nullable=True),\n",
       " StructField('CREDIT_HISTORY', StringType(), nullable=True),\n",
       " StructField('PURPOSE', StringType(), nullable=True),\n",
       " StructField('CREDIT_AMOUNT', LongType(), nullable=True),\n",
       " StructField('SAVINGS_STATUS', StringType(), nullable=True),\n",
       " StructField('EMPLOYMENT', StringType(), nullable=True),\n",
       " StructField('INSTALLMENT_COMMITMENT', LongType(), nullable=True),\n",
       " StructField('PERSONAL_STATUS', StringType(), nullable=True),\n",
       " StructField('THER_PARTIES', StringType(), nullable=True),\n",
       " StructField('RESIDENCE_SINCE', LongType(), nullable=True),\n",
       " StructField('PROPERTY_MAGNITUDE', StringType(), nullable=True),\n",
       " StructField('AGE', StringType(), nullable=True),\n",
       " StructField('OTHER_PAYMENT_PLANS', StringType(), nullable=True),\n",
       " StructField('HOUSING', StringType(), nullable=True),\n",
       " StructField('EXISTING_CREDITS', LongType(), nullable=True),\n",
       " StructField('JOB', StringType(), nullable=True),\n",
       " StructField('NUM_DEPENDENTS', LongType(), nullable=True),\n",
       " StructField('OWN_TELEPHONE', StringType(), nullable=True),\n",
       " StructField('FOREIGN_WORKER', StringType(), nullable=True),\n",
       " StructField('CLASS', StringType(), nullable=True)]"
      ]
     },
     "execution_count": 14,
     "metadata": {},
     "output_type": "execute_result"
    }
   ],
   "source": [
    "df.schema.fields"
   ]
  },
  {
   "cell_type": "code",
   "execution_count": null,
   "metadata": {
    "Collapsed": "false"
   },
   "outputs": [],
   "source": []
  }
 ],
 "metadata": {
  "instance_type": "ml.t3.medium",
  "kernelspec": {
   "display_name": "Python 3 (Data Science 2.0)",
   "language": "python",
   "name": "python3__SAGEMAKER_INTERNAL__arn:aws:sagemaker:eu-west-1:470317259841:image/sagemaker-data-science-38"
  },
  "language_info": {
   "codemirror_mode": {
    "name": "ipython",
    "version": 3
   },
   "file_extension": ".py",
   "mimetype": "text/x-python",
   "name": "python",
   "nbconvert_exporter": "python",
   "pygments_lexer": "ipython3",
   "version": "3.8.13"
  }
 },
 "nbformat": 4,
 "nbformat_minor": 4
}
