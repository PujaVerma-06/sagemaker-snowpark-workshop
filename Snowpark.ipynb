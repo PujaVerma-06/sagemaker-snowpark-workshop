{
 "cells": [
  {
   "cell_type": "code",
   "execution_count": 2,
   "metadata": {
    "Collapsed": "false"
   },
   "outputs": [
    {
     "name": "stdout",
     "output_type": "stream",
     "text": [
      "Collecting snowflake-snowpark-python==0.10.0\n",
      "  Downloading snowflake_snowpark_python-0.10.0-py3-none-any.whl (233 kB)\n",
      "\u001b[2K     \u001b[90m━━━━━━━━━━━━━━━━━━━━━━━━━━━━━━━━━━━━━━━\u001b[0m \u001b[32m233.4/233.4 kB\u001b[0m \u001b[31m3.2 MB/s\u001b[0m eta \u001b[36m0:00:00\u001b[0ma \u001b[36m0:00:01\u001b[0m\n",
      "\u001b[?25hRequirement already satisfied: wheel in /opt/conda/lib/python3.8/site-packages (from snowflake-snowpark-python==0.10.0) (0.37.0)\n",
      "Collecting typing-extensions>=4.1.0\n",
      "  Downloading typing_extensions-4.4.0-py3-none-any.whl (26 kB)\n",
      "Collecting snowflake-connector-python>=2.7.12\n",
      "  Downloading snowflake_connector_python-2.8.0-cp38-cp38-manylinux_2_17_x86_64.manylinux2014_x86_64.whl (21.3 MB)\n",
      "\u001b[2K     \u001b[90m━━━━━━━━━━━━━━━━━━━━━━━━━━━━━━━━━━━━━━━━\u001b[0m \u001b[32m21.3/21.3 MB\u001b[0m \u001b[31m33.0 MB/s\u001b[0m eta \u001b[36m0:00:00\u001b[0m00:01\u001b[0m00:01\u001b[0m\n",
      "\u001b[?25hRequirement already satisfied: cloudpickle<=2.0.0,>=1.6.0 in /opt/conda/lib/python3.8/site-packages (from snowflake-snowpark-python==0.10.0) (2.0.0)\n",
      "Requirement already satisfied: setuptools>=40.6.0 in /opt/conda/lib/python3.8/site-packages (from snowflake-snowpark-python==0.10.0) (58.0.4)\n",
      "Collecting cryptography<37.0.0,>=3.1.0\n",
      "  Downloading cryptography-36.0.2-cp36-abi3-manylinux_2_24_x86_64.whl (3.6 MB)\n",
      "\u001b[2K     \u001b[90m━━━━━━━━━━━━━━━━━━━━━━━━━━━━━━━━━━━━━━━━\u001b[0m \u001b[32m3.6/3.6 MB\u001b[0m \u001b[31m26.7 MB/s\u001b[0m eta \u001b[36m0:00:00\u001b[0m:00:01\u001b[0m\n",
      "\u001b[?25hRequirement already satisfied: pyOpenSSL<23.0.0,>=16.2.0 in /opt/conda/lib/python3.8/site-packages (from snowflake-connector-python>=2.7.12->snowflake-snowpark-python==0.10.0) (21.0.0)\n",
      "Requirement already satisfied: requests<3.0.0 in /opt/conda/lib/python3.8/site-packages (from snowflake-connector-python>=2.7.12->snowflake-snowpark-python==0.10.0) (2.27.1)\n",
      "Requirement already satisfied: cffi<2.0.0,>=1.9 in /opt/conda/lib/python3.8/site-packages (from snowflake-connector-python>=2.7.12->snowflake-snowpark-python==0.10.0) (1.14.6)\n",
      "Requirement already satisfied: pytz in /opt/conda/lib/python3.8/site-packages (from snowflake-connector-python>=2.7.12->snowflake-snowpark-python==0.10.0) (2021.3)\n",
      "Collecting pyjwt<3.0.0\n",
      "  Downloading PyJWT-2.6.0-py3-none-any.whl (20 kB)\n",
      "Requirement already satisfied: urllib3<1.27,>=1.21.1 in /opt/conda/lib/python3.8/site-packages (from snowflake-connector-python>=2.7.12->snowflake-snowpark-python==0.10.0) (1.26.9)\n",
      "Collecting filelock<4,>=3.5\n",
      "  Downloading filelock-3.8.0-py3-none-any.whl (10 kB)\n",
      "Requirement already satisfied: certifi>=2017.4.17 in /opt/conda/lib/python3.8/site-packages (from snowflake-connector-python>=2.7.12->snowflake-snowpark-python==0.10.0) (2021.10.8)\n",
      "Collecting oscrypto<2.0.0\n",
      "  Downloading oscrypto-1.3.0-py2.py3-none-any.whl (194 kB)\n",
      "\u001b[2K     \u001b[90m━━━━━━━━━━━━━━━━━━━━━━━━━━━━━━━━━━━━━━━\u001b[0m \u001b[32m194.6/194.6 kB\u001b[0m \u001b[31m3.6 MB/s\u001b[0m eta \u001b[36m0:00:00\u001b[0ma \u001b[36m0:00:01\u001b[0m\n",
      "\u001b[?25hRequirement already satisfied: charset-normalizer<3,>=2 in /opt/conda/lib/python3.8/site-packages (from snowflake-connector-python>=2.7.12->snowflake-snowpark-python==0.10.0) (2.0.4)\n",
      "Collecting pycryptodomex!=3.5.0,<4.0.0,>=3.2\n",
      "  Downloading pycryptodomex-3.15.0-cp35-abi3-manylinux2010_x86_64.whl (2.3 MB)\n",
      "\u001b[2K     \u001b[90m━━━━━━━━━━━━━━━━━━━━━━━━━━━━━━━━━━━━━━━━\u001b[0m \u001b[32m2.3/2.3 MB\u001b[0m \u001b[31m23.4 MB/s\u001b[0m eta \u001b[36m0:00:00\u001b[0m:00:01\u001b[0m\n",
      "\u001b[?25hRequirement already satisfied: idna<4,>=2.5 in /opt/conda/lib/python3.8/site-packages (from snowflake-connector-python>=2.7.12->snowflake-snowpark-python==0.10.0) (3.2)\n",
      "Requirement already satisfied: asn1crypto<2.0.0,>0.24.0 in /opt/conda/lib/python3.8/site-packages (from snowflake-connector-python>=2.7.12->snowflake-snowpark-python==0.10.0) (1.4.0)\n",
      "Requirement already satisfied: pycparser in /opt/conda/lib/python3.8/site-packages (from cffi<2.0.0,>=1.9->snowflake-connector-python>=2.7.12->snowflake-snowpark-python==0.10.0) (2.20)\n",
      "Collecting asn1crypto<2.0.0,>0.24.0\n",
      "  Downloading asn1crypto-1.5.1-py2.py3-none-any.whl (105 kB)\n",
      "\u001b[2K     \u001b[90m━━━━━━━━━━━━━━━━━━━━━━━━━━━━━━━━━━━━━━━\u001b[0m \u001b[32m105.0/105.0 kB\u001b[0m \u001b[31m1.8 MB/s\u001b[0m eta \u001b[36m0:00:00\u001b[0m00:01\u001b[0m\n",
      "\u001b[?25hRequirement already satisfied: six>=1.5.2 in /opt/conda/lib/python3.8/site-packages (from pyOpenSSL<23.0.0,>=16.2.0->snowflake-connector-python>=2.7.12->snowflake-snowpark-python==0.10.0) (1.16.0)\n",
      "Installing collected packages: asn1crypto, typing-extensions, pyjwt, pycryptodomex, oscrypto, filelock, cryptography, snowflake-connector-python, snowflake-snowpark-python\n",
      "  Attempting uninstall: asn1crypto\n",
      "    Found existing installation: asn1crypto 1.4.0\n",
      "    Uninstalling asn1crypto-1.4.0:\n",
      "      Successfully uninstalled asn1crypto-1.4.0\n",
      "  Attempting uninstall: typing-extensions\n",
      "    Found existing installation: typing-extensions 3.10.0.2\n",
      "    Uninstalling typing-extensions-3.10.0.2:\n",
      "      Successfully uninstalled typing-extensions-3.10.0.2\n",
      "  Attempting uninstall: filelock\n",
      "    Found existing installation: filelock 3.3.1\n",
      "    Uninstalling filelock-3.3.1:\n",
      "      Successfully uninstalled filelock-3.3.1\n",
      "  Attempting uninstall: cryptography\n",
      "    Found existing installation: cryptography 37.0.2\n",
      "    Uninstalling cryptography-37.0.2:\n",
      "      Successfully uninstalled cryptography-37.0.2\n",
      "Successfully installed asn1crypto-1.5.1 cryptography-36.0.2 filelock-3.8.0 oscrypto-1.3.0 pycryptodomex-3.15.0 pyjwt-2.6.0 snowflake-connector-python-2.8.0 snowflake-snowpark-python-0.10.0 typing-extensions-4.4.0\n",
      "\u001b[33mWARNING: Running pip as the 'root' user can result in broken permissions and conflicting behaviour with the system package manager. It is recommended to use a virtual environment instead: https://pip.pypa.io/warnings/venv\u001b[0m\u001b[33m\n",
      "\u001b[0m\u001b[33mWARNING: There was an error checking the latest version of pip.\u001b[0m\u001b[33m\n",
      "\u001b[0m"
     ]
    }
   ],
   "source": [
    "!pip install snowflake-snowpark-python==0.10.0"
   ]
  },
  {
   "cell_type": "code",
   "execution_count": 3,
   "metadata": {},
   "outputs": [
    {
     "name": "stdout",
     "output_type": "stream",
     "text": [
      "Collecting cachetools\n",
      "  Downloading cachetools-5.2.0-py3-none-any.whl (9.3 kB)\n",
      "Installing collected packages: cachetools\n",
      "Successfully installed cachetools-5.2.0\n",
      "\u001b[33mWARNING: Running pip as the 'root' user can result in broken permissions and conflicting behaviour with the system package manager. It is recommended to use a virtual environment instead: https://pip.pypa.io/warnings/venv\u001b[0m\u001b[33m\n",
      "\u001b[0m\u001b[33mWARNING: There was an error checking the latest version of pip.\u001b[0m\u001b[33m\n",
      "\u001b[0m"
     ]
    }
   ],
   "source": [
    "!pip install cachetools"
   ]
  },
  {
   "cell_type": "code",
   "execution_count": 32,
   "metadata": {
    "Collapsed": "false"
   },
   "outputs": [],
   "source": [
    "import os\n",
    "from pprint import pprint\n",
    "import re\n",
    "import datetime\n",
    "import io\n",
    "import joblib\n",
    "from joblib import dump\n",
    "\n",
    "from sklearn.impute import SimpleImputer\n",
    "from sklearn.pipeline import Pipeline\n",
    "from sklearn.preprocessing import StandardScaler, OneHotEncoder\n",
    "from sklearn.compose import ColumnTransformer\n",
    "from sklearn.ensemble import RandomForestClassifier\n",
    "from sklearn.model_selection import train_test_split\n",
    "from sklearn.metrics import classification_report"
   ]
  },
  {
   "cell_type": "markdown",
   "metadata": {
    "Collapsed": "false"
   },
   "source": [
    "# Snowflake Connection"
   ]
  },
  {
   "cell_type": "code",
   "execution_count": 33,
   "metadata": {
    "Collapsed": "false"
   },
   "outputs": [],
   "source": [
    "from snowflake.snowpark import (\n",
    "    Column,\n",
    "    DataFrame,\n",
    "    Session,\n",
    "    Window\n",
    ")\n",
    "\n",
    "import snowflake.snowpark\n",
    "from snowflake.snowpark import functions as f\n",
    "from snowflake.snowpark.types import IntegerType, StringType, StructType, DateType, StructField, MapType"
   ]
  },
  {
   "cell_type": "code",
   "execution_count": 34,
   "metadata": {
    "Collapsed": "false"
   },
   "outputs": [],
   "source": [
    "connection_parameters = {\n",
    "\"account\": \"gi02106.eu-west-2.aws\",\n",
    "\"user\": \"pujaverma\",\n",
    "\"password\": \"Itzme#123\",\n",
    "\"role\": \"accountadmin\",\n",
    "\"warehouse\": \"workshopwh\",\n",
    "\"database\": \"workshopdb\",\n",
    "\"schema\": \"workshopsch\",\n",
    "}"
   ]
  },
  {
   "cell_type": "code",
   "execution_count": 35,
   "metadata": {
    "Collapsed": "false"
   },
   "outputs": [],
   "source": [
    "snowflake_conn_session = Session.builder.configs(connection_parameters).create()"
   ]
  },
  {
   "cell_type": "code",
   "execution_count": 36,
   "metadata": {
    "Collapsed": "false"
   },
   "outputs": [
    {
     "name": "stdout",
     "output_type": "stream",
     "text": [
      "---------------------------------------------------------------------\n",
      "|\"CURRENT_WAREHOUSE()\"  |\"CURRENT_DATABASE()\"  |\"CURRENT_SCHEMA()\"  |\n",
      "---------------------------------------------------------------------\n",
      "|WORKSHOPWH             |WORKSHOPDB            |WORKSHOPSCH         |\n",
      "---------------------------------------------------------------------\n",
      "\n"
     ]
    }
   ],
   "source": [
    "snowflake_conn_session.sql(\"select current_warehouse(), current_database(), current_schema()\").show()"
   ]
  },
  {
   "cell_type": "code",
   "execution_count": 37,
   "metadata": {
    "Collapsed": "false"
   },
   "outputs": [],
   "source": [
    "snow_df = snowflake_conn_session.table(\"Snowpark_dataset\")"
   ]
  },
  {
   "cell_type": "code",
   "execution_count": 38,
   "metadata": {
    "Collapsed": "false"
   },
   "outputs": [
    {
     "data": {
      "text/plain": [
       "[StructField('CHECKING_STATUS', StringType(), nullable=True),\n",
       " StructField('DURATION', LongType(), nullable=True),\n",
       " StructField('CREDIT_HISTORY', StringType(), nullable=True),\n",
       " StructField('PURPOSE', StringType(), nullable=True),\n",
       " StructField('CREDIT_AMOUNT', LongType(), nullable=True),\n",
       " StructField('SAVINGS_STATUS', StringType(), nullable=True),\n",
       " StructField('EMPLOYMENT', StringType(), nullable=True),\n",
       " StructField('INSTALLMENT_COMMITMENT', LongType(), nullable=True),\n",
       " StructField('PERSONAL_STATUS', StringType(), nullable=True),\n",
       " StructField('THER_PARTIES', StringType(), nullable=True),\n",
       " StructField('RESIDENCE_SINCE', LongType(), nullable=True),\n",
       " StructField('PROPERTY_MAGNITUDE', StringType(), nullable=True),\n",
       " StructField('AGE', StringType(), nullable=True),\n",
       " StructField('OTHER_PAYMENT_PLANS', StringType(), nullable=True),\n",
       " StructField('HOUSING', StringType(), nullable=True),\n",
       " StructField('EXISTING_CREDITS', LongType(), nullable=True),\n",
       " StructField('JOB', StringType(), nullable=True),\n",
       " StructField('NUM_DEPENDENTS', LongType(), nullable=True),\n",
       " StructField('OWN_TELEPHONE', StringType(), nullable=True),\n",
       " StructField('FOREIGN_WORKER', StringType(), nullable=True),\n",
       " StructField('CLASS', StringType(), nullable=True)]"
      ]
     },
     "execution_count": 38,
     "metadata": {},
     "output_type": "execute_result"
    }
   ],
   "source": [
    "snow_df.schema.fields"
   ]
  },
  {
   "cell_type": "code",
   "execution_count": 39,
   "metadata": {
    "Collapsed": "false"
   },
   "outputs": [
    {
     "name": "stdout",
     "output_type": "stream",
     "text": [
      "--------------------------------------------------------------------------------------------------------------------------------------------------------------------------------------------------------------------------------------------------------------------------------------------------------------------------------------------------------------------------------------------\n",
      "|\"CHECKING_STATUS\"  |\"DURATION\"  |\"CREDIT_HISTORY\"                |\"PURPOSE\"  |\"CREDIT_AMOUNT\"  |\"SAVINGS_STATUS\"  |\"EMPLOYMENT\"  |\"INSTALLMENT_COMMITMENT\"  |\"PERSONAL_STATUS\"   |\"THER_PARTIES\"  |\"RESIDENCE_SINCE\"  |\"PROPERTY_MAGNITUDE\"  |\"AGE\"  |\"OTHER_PAYMENT_PLANS\"  |\"HOUSING\"  |\"EXISTING_CREDITS\"  |\"JOB\"    |\"NUM_DEPENDENTS\"  |\"OWN_TELEPHONE\"  |\"FOREIGN_WORKER\"  |\"CLASS\"  |\n",
      "--------------------------------------------------------------------------------------------------------------------------------------------------------------------------------------------------------------------------------------------------------------------------------------------------------------------------------------------------------------------------------------------\n",
      "|<0                 |6           |critical/other existing credit  |radio/tv   |1169             |no known savings  |>=7           |4                         |male single         |none            |4                  |real estate           |67     |none                   |own        |2                   |skilled  |1                 |yes              |yes               |good     |\n",
      "|0<=X<200           |48          |existing paid                   |radio/tv   |5951             |<100              |1<=X<4        |2                         |female div/dep/mar  |none            |2                  |real estate           |22     |none                   |own        |1                   |skilled  |1                 |none             |yes               |bad      |\n",
      "--------------------------------------------------------------------------------------------------------------------------------------------------------------------------------------------------------------------------------------------------------------------------------------------------------------------------------------------------------------------------------------------\n",
      "\n"
     ]
    }
   ],
   "source": [
    "snow_df.show(2)"
   ]
  },
  {
   "cell_type": "code",
   "execution_count": 40,
   "metadata": {
    "Collapsed": "false"
   },
   "outputs": [
    {
     "name": "stdout",
     "output_type": "stream",
     "text": [
      "---------------------------------------------------------------------------------------------------------------------------------------------------------------------------------------------------------------------------------------------------------------------------------------------------------------------------------------------------------------------------------------------\n",
      "|\"CHECKING_STATUS\"  |\"DURATION\"  |\"CREDIT_HISTORY\"                |\"PURPOSE\"  |\"CREDIT_AMOUNT\"  |\"SAVINGS_STATUS\"  |\"EMPLOYMENT\"  |\"INSTALLMENT_COMMITMENT\"  |\"PERSONAL_STATUS\"   |\"THER_PARTIES\"  |\"RESIDENCE_SINCE\"  |\"PROPERTY_MAGNITUDE\"  |\"AGE\"  |\"OTHER_PAYMENT_PLANS\"  |\"HOUSING\"  |\"EXISTING_CREDITS\"  |\"JOB\"    |\"NUM_DEPENDENTS\"  |\"OWN_TELEPHONE\"  |\"FOREIGN_WORKER\"  |\"TARGET\"  |\n",
      "---------------------------------------------------------------------------------------------------------------------------------------------------------------------------------------------------------------------------------------------------------------------------------------------------------------------------------------------------------------------------------------------\n",
      "|<0                 |6           |critical/other existing credit  |radio/tv   |1169             |no known savings  |>=7           |4                         |male single         |none            |4                  |real estate           |67     |none                   |own        |2                   |skilled  |1                 |yes              |yes               |1         |\n",
      "|0<=X<200           |48          |existing paid                   |radio/tv   |5951             |<100              |1<=X<4        |2                         |female div/dep/mar  |none            |2                  |real estate           |22     |none                   |own        |1                   |skilled  |1                 |none             |yes               |0         |\n",
      "---------------------------------------------------------------------------------------------------------------------------------------------------------------------------------------------------------------------------------------------------------------------------------------------------------------------------------------------------------------------------------------------\n",
      "\n"
     ]
    }
   ],
   "source": [
    "snow_df = snow_df.with_column('TARGET', f.when(f.col('CLASS') == 'good',1).otherwise(0))\n",
    "snow_df = snow_df.drop(f.col('CLASS'))\n",
    "\n",
    "snow_df.show(2)"
   ]
  },
  {
   "cell_type": "code",
   "execution_count": 41,
   "metadata": {
    "Collapsed": "false"
   },
   "outputs": [],
   "source": [
    "snow_df_train, snow_df_inf = snow_df.random_split([0.8, 0.2], seed=1234)\n",
    "\n",
    "snow_df_train.write.save_as_table('training_table', mode=\"overwrite\", create_temp_table=False)\n",
    "snow_df_inf.write.save_as_table('inference_table', mode=\"overwrite\", create_temp_table=False)"
   ]
  },
  {
   "cell_type": "code",
   "execution_count": 44,
   "metadata": {
    "Collapsed": "false"
   },
   "outputs": [
    {
     "name": "stderr",
     "output_type": "stream",
     "text": [
      "WARNING:root:Failed to get the local distribution of package snowflake-snowpark-python: (typing-extensions 3.10.0.2 (/opt/conda/lib/python3.8/site-packages), Requirement.parse('typing-extensions>=4.1.0'), {'snowflake-snowpark-python'})\n"
     ]
    },
    {
     "data": {
      "text/plain": [
       "'              precision    recall  f1-score   support\\n\\n           0       0.58      0.28      0.38        50\\n           1       0.74      0.91      0.81       110\\n\\n    accuracy                           0.71       160\\n   macro avg       0.66      0.59      0.60       160\\nweighted avg       0.69      0.71      0.68       160\\n'"
      ]
     },
     "execution_count": 44,
     "metadata": {},
     "output_type": "execute_result"
    }
   ],
   "source": [
    "session = Session.builder.configs(connection_parameters).create()\n",
    "session.add_packages('snowflake-snowpark-python', 'scikit-learn', 'pandas', 'numpy', 'joblib', 'cachetools')\n",
    "\n",
    "def save_file(session, model, path, dest_filename):\n",
    "    input_stream = io.BytesIO()\n",
    "    joblib.dump(model, input_stream)\n",
    "    session._conn.upload_stream(input_stream, path, dest_filename)\n",
    "    return \"successfully created file: \" + path\n",
    "\n",
    "def train_model(session: Session) -> str:\n",
    "    \n",
    "    \n",
    "    df_train = session.table('training_table')\n",
    "\n",
    "    df_train_pd = df_train.to_pandas()\n",
    "    \n",
    "    numerical_cols = list(df_train_pd.select_dtypes(['float64', 'int64']).columns)\n",
    "    categorical_cols = list(df_train_pd.drop('TARGET', axis=1).select_dtypes(['object']).columns)\n",
    "\n",
    "    X = df_train_pd.drop('TARGET', axis=1)\n",
    "    y = df_train_pd['TARGET']\n",
    "    X_train, X_test, y_train, y_test = train_test_split(X, y, test_size=0.2, random_state=1234)\n",
    "\n",
    "    numeric_transformer = Pipeline(steps=[\n",
    "        ('imputer', SimpleImputer(strategy='median')),\n",
    "        ('scaler', StandardScaler())])\n",
    "    categorical_transformer = Pipeline(steps=[\n",
    "        ('imputer', SimpleImputer(strategy='constant', fill_value='missing')),\n",
    "        ('one_hot', OneHotEncoder(handle_unknown='ignore'))])\n",
    "    preprocessor = ColumnTransformer(\n",
    "        transformers=[\n",
    "            ('num', numeric_transformer, numerical_cols),\n",
    "            ('cat', categorical_transformer, categorical_cols)])\n",
    "\n",
    "    rf_pipe = Pipeline(steps=[('preprocessor', preprocessor),\n",
    "                          ('classifier',  RandomForestClassifier(class_weight='balanced',\n",
    "                                                                 random_state=0))])\n",
    "\n",
    "    rf_clf = rf_pipe.fit(X_train, y_train)\n",
    "    \n",
    "    save_file(session, rf_clf, \"@SNOWFLAKESTAGE\", 'credit_g_model_2.joblib')\n",
    "\n",
    "    y_pred = rf_clf.predict(X_test)\n",
    "    return classification_report(y_test, y_pred)\n",
    "\n",
    "train_model_sp = f.sproc(train_model, replace=True, session=session)\n",
    "\n",
    "train_model_sp(session=session)"
   ]
  },
  {
   "cell_type": "code",
   "execution_count": 45,
   "metadata": {
    "Collapsed": "false"
   },
   "outputs": [],
   "source": [
    "from snowflake.snowpark.functions import udf\n",
    "session.add_import(\"@SNOWFLAKESTAGE/credit_g_model_2.joblib\")"
   ]
  },
  {
   "cell_type": "code",
   "execution_count": 46,
   "metadata": {},
   "outputs": [
    {
     "data": {
      "text/plain": [
       "[Row(status='Stage area UDF successfully created.')]"
      ]
     },
     "execution_count": 46,
     "metadata": {},
     "output_type": "execute_result"
    }
   ],
   "source": [
    "query = \"create or replace stage udf\" +\\\n",
    "        \" copy_options = (on_error='skip_file')\"\n",
    "        \n",
    "session.sql(query).collect()"
   ]
  },
  {
   "cell_type": "code",
   "execution_count": 48,
   "metadata": {},
   "outputs": [],
   "source": [
    "import cachetools\n",
    "import joblib\n",
    "import sys\n",
    "import os\n",
    "\n",
    "import pandas as pd\n",
    "\n",
    "from snowflake.snowpark.functions import udf\n",
    "\n",
    "@cachetools.cached(cache={})\n",
    "def read_file(filename):\n",
    "    import_dir = sys._xoptions.get(\"snowflake_import_directory\")\n",
    "    if import_dir:\n",
    "        with open(os.path.join(import_dir, filename), 'rb') as file:\n",
    "            m = joblib.load(file)\n",
    "    return m\n",
    "\n",
    "features = ['CHECKING_STATUS', 'DURATION', 'CREDIT_HISTORY', 'PURPOSE','CREDIT_AMOUNT', \n",
    "            'SAVINGS_STATUS', 'EMPLOYMENT','INSTALLMENT_COMMITMENT', 'PERSONAL_STATUS', \n",
    "            'THER_PARTIES', 'RESIDENCE_SINCE', 'PROPERTY_MAGNITUDE', 'AGE', \n",
    "            'OTHER_PAYMENT_PLANS', 'HOUSING', 'EXISTING_CREDITS', 'JOB', 'NUM_DEPENDENTS',\n",
    "            'OWN_TELEPHONE','FOREIGN_WORKER']\n",
    "\n",
    "@udf(name=\"predict\", is_permanent=True, stage_location=\"@udf\", replace=True, session=session)\n",
    "\n",
    "def predict(CHECKING_STATUS: str,\n",
    "            DURATION: int,\n",
    "            CREDIT_HISTORY: str,\n",
    "            PURPOSE: str,\n",
    "            CREDIT_AMOUNT: float,\n",
    "            SAVINGS_STATUS: str,\n",
    "            EMPLOYMENT: str,\n",
    "            INSTALLMENT_COMMITMENT: float,\n",
    "            PERSONAL_STATUS: str,\n",
    "            THER_PARTIES: str,\n",
    "            RESIDENCE_SINCE: float,\n",
    "            PROPERTY_MAGNITUDE: str,\n",
    "            AGE: str,\n",
    "            OTHER_PAYMENT_PLANS: str,\n",
    "            HOUSING: str,\n",
    "            EXISTING_CREDITS: float,\n",
    "            JOB: str,\n",
    "            NUM_DEPENDENTS: float,\n",
    "            OWN_TELEPHONE: str,\n",
    "            FOREIGN_WORKER: str) -> float:\n",
    "    model = read_file('credit_g_model_2.joblib')\n",
    "    row = pd.DataFrame([locals()], columns=features)\n",
    "    return model.predict(row)[0]"
   ]
  },
  {
   "cell_type": "code",
   "execution_count": 49,
   "metadata": {},
   "outputs": [
    {
     "name": "stdout",
     "output_type": "stream",
     "text": [
      "------------------------------------------------------------------------------------------------------------------------------------------------------------------------------------------------------------------------------------------------------------------------------------------------------------------------------------------------------------------------------------------\n",
      "|\"CHECKING_STATUS\"  |\"DURATION\"  |\"CREDIT_HISTORY\"  |\"PURPOSE\"  |\"CREDIT_AMOUNT\"  |\"SAVINGS_STATUS\"  |\"EMPLOYMENT\"  |\"INSTALLMENT_COMMITMENT\"  |\"PERSONAL_STATUS\"   |\"THER_PARTIES\"  |\"RESIDENCE_SINCE\"  |\"PROPERTY_MAGNITUDE\"  |\"AGE\"  |\"OTHER_PAYMENT_PLANS\"  |\"HOUSING\"  |\"EXISTING_CREDITS\"  |\"JOB\"               |\"NUM_DEPENDENTS\"  |\"OWN_TELEPHONE\"  |\"FOREIGN_WORKER\"  |\"TARGET\"  |\n",
      "------------------------------------------------------------------------------------------------------------------------------------------------------------------------------------------------------------------------------------------------------------------------------------------------------------------------------------------------------------------------------------------\n",
      "|no checking        |36          |existing paid     |education  |9055             |no known savings  |1<=X<4        |2                         |male single         |none            |4                  |no known property     |35     |none                   |for free   |1                   |unskilled resident  |2                 |yes              |yes               |1         |\n",
      "|0<=X<200           |12          |existing paid     |radio/tv   |1567             |<100              |1<=X<4        |1                         |female div/dep/mar  |none            |1                  |car                   |22     |none                   |own        |1                   |skilled             |1                 |yes              |yes               |1         |\n",
      "------------------------------------------------------------------------------------------------------------------------------------------------------------------------------------------------------------------------------------------------------------------------------------------------------------------------------------------------------------------------------------------\n",
      "\n",
      "-------------------------------------------------------------------------------------------------------------------------------------------------------------------------------------------------------------------------------------------------------------------------------------------------------------------------------------------------------------------------------\n",
      "|\"CHECKING_STATUS\"  |\"DURATION\"  |\"CREDIT_HISTORY\"  |\"PURPOSE\"  |\"CREDIT_AMOUNT\"  |\"SAVINGS_STATUS\"  |\"EMPLOYMENT\"  |\"INSTALLMENT_COMMITMENT\"  |\"PERSONAL_STATUS\"   |\"THER_PARTIES\"  |\"RESIDENCE_SINCE\"  |\"PROPERTY_MAGNITUDE\"  |\"AGE\"  |\"OTHER_PAYMENT_PLANS\"  |\"HOUSING\"  |\"EXISTING_CREDITS\"  |\"JOB\"               |\"NUM_DEPENDENTS\"  |\"OWN_TELEPHONE\"  |\"FOREIGN_WORKER\"  |\n",
      "-------------------------------------------------------------------------------------------------------------------------------------------------------------------------------------------------------------------------------------------------------------------------------------------------------------------------------------------------------------------------------\n",
      "|no checking        |36          |existing paid     |education  |9055             |no known savings  |1<=X<4        |2                         |male single         |none            |4                  |no known property     |35     |none                   |for free   |1                   |unskilled resident  |2                 |yes              |yes               |\n",
      "|0<=X<200           |12          |existing paid     |radio/tv   |1567             |<100              |1<=X<4        |1                         |female div/dep/mar  |none            |1                  |car                   |22     |none                   |own        |1                   |skilled             |1                 |yes              |yes               |\n",
      "-------------------------------------------------------------------------------------------------------------------------------------------------------------------------------------------------------------------------------------------------------------------------------------------------------------------------------------------------------------------------------\n",
      "\n"
     ]
    }
   ],
   "source": [
    "from snowflake.snowpark.functions import col\n",
    "\n",
    "inf_table = 'inference_table'\n",
    "\n",
    "snow_df_test = session.table(inf_table)\n",
    "snow_df_test.show(2)\n",
    "inputs = snow_df_test.drop(\"TARGET\")\n",
    "inputs.show(2)\n",
    "snow_df_results = snow_df_test.select(*inputs,\n",
    "                                      predict(*inputs).alias('PREDICTION'),\n",
    "                                      (col('TARGET')).alias('ACTUAL_LABEL'))\n",
    "#snow_df_results.to_pandas().head(20)\n",
    "snow_df_results.write.mode(\"overwrite\").save_as_table(\"CREDIT_G_PREDICTIONS\")"
   ]
  },
  {
   "cell_type": "code",
   "execution_count": null,
   "metadata": {},
   "outputs": [],
   "source": []
  }
 ],
 "metadata": {
  "instance_type": "ml.t3.medium",
  "kernelspec": {
   "display_name": "Python 3 (Data Science 2.0)",
   "language": "python",
   "name": "python3__SAGEMAKER_INTERNAL__arn:aws:sagemaker:eu-west-1:470317259841:image/sagemaker-data-science-38"
  },
  "language_info": {
   "codemirror_mode": {
    "name": "ipython",
    "version": 3
   },
   "file_extension": ".py",
   "mimetype": "text/x-python",
   "name": "python",
   "nbconvert_exporter": "python",
   "pygments_lexer": "ipython3",
   "version": "3.8.13"
  }
 },
 "nbformat": 4,
 "nbformat_minor": 4
}
